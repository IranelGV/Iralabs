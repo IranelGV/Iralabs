{
 "cells": [
  {
   "cell_type": "markdown",
   "metadata": {},
   "source": [
    "# Lab | Data Structures "
   ]
  },
  {
   "cell_type": "markdown",
   "metadata": {},
   "source": [
    "## Exercise 1: Working with Lists"
   ]
  },
  {
   "cell_type": "markdown",
   "metadata": {},
   "source": [
    "Imagine you are building a program for a teacher who wants to track the progress of their students throughout the semester. The teacher wants to input the grades of each student one by one, and get a summary of their performance. There are in total 5 students. You are tasked with building the program that will allow the teacher to do this easily.\n",
    "\n",
    "The program will prompt the teacher to enter the grades of each student. Once the teacher has entered all the grades, the program will calculate the total sum of the grades and display it on the screen. Then, the program will create a new list by selecting only the grades of the first, third, and fifth students entered by the teacher, and sort them in ascending order.\n",
    "\n",
    "Finally, the program will print out the new list, along with its length and the number of occurrences of the score 5 in the list. This will give the teacher a good overview of the performance of the selected students, and help them identify any potential issues early on."
   ]
  },
  {
   "cell_type": "markdown",
   "metadata": {},
   "source": [
    "*Hint:*\n",
    "- You can use the input() function to ask the user to enter their information.\n",
    "- Look for list methods to perform the tasks. \n",
    "- Remember, it is possible to get a part of the sequence using:\n",
    "\n",
    "    ```python\n",
    "    sequence[x:y:z]\n",
    "    ```\n",
    "    where x, y, z are integers.\n",
    "\n",
    "    The above returns a new sequence with the following characteristics:\n",
    "\n",
    "    - A sequence with the same type as the original (a slice of a list is a list, a slice of a tuple is a tuple, and a slice of a string is a string).\n",
    "    - A sequence with elements from `sequence [x]` to `sequence [y-1]` (does not include a sequence [y]). By skipping `z` elements each time, it can be omitted if ` z = 1`.\n"
   ]
  },
  {
   "cell_type": "markdown",
   "metadata": {},
   "source": [
    "*Recommended External Resources:*\n",
    "- *[Python Lists](https://www.w3schools.com/python/python_lists.asp)*\n",
    "- *[Python List Methods](https://www.w3schools.com/python/python_ref_list.asp)*\n",
    "- *[Python Built-in Functions](https://docs.python.org/3/library/functions.html)*\n"
   ]
  },
  {
   "cell_type": "code",
   "execution_count": 20,
   "metadata": {},
   "outputs": [
    {
     "name": "stdout",
     "output_type": "stream",
     "text": [
      "Grade of the Student N.1:10\n",
      "10\n"
     ]
    }
   ],
   "source": [
    "# Your code here\n",
    "student_n1 = input(\"Grade of the Student N.1:\" )\n",
    "print(student_n1)"
   ]
  },
  {
   "cell_type": "code",
   "execution_count": 21,
   "metadata": {},
   "outputs": [
    {
     "name": "stdout",
     "output_type": "stream",
     "text": [
      "Grade of the Student N.2:8\n",
      "8\n"
     ]
    }
   ],
   "source": [
    "student_n2 = input(\"Grade of the Student N.2:\" )\n",
    "print(student_n2)"
   ]
  },
  {
   "cell_type": "code",
   "execution_count": 22,
   "metadata": {},
   "outputs": [
    {
     "name": "stdout",
     "output_type": "stream",
     "text": [
      "Grade of the Student N.3:9\n",
      "9\n"
     ]
    }
   ],
   "source": [
    "student_n3 = input(\"Grade of the Student N.3:\" )\n",
    "print(student_n3)"
   ]
  },
  {
   "cell_type": "code",
   "execution_count": 23,
   "metadata": {},
   "outputs": [
    {
     "name": "stdout",
     "output_type": "stream",
     "text": [
      "Grade of the Student N.4:12\n",
      "12\n"
     ]
    }
   ],
   "source": [
    "student_n4 = input(\"Grade of the Student N.4:\")\n",
    "print(student_n4)"
   ]
  },
  {
   "cell_type": "code",
   "execution_count": 1,
   "metadata": {},
   "outputs": [
    {
     "name": "stdout",
     "output_type": "stream",
     "text": [
      "Grade of the Student N.5:8\n",
      "8\n"
     ]
    }
   ],
   "source": [
    "student_n5 = input(\"Grade of the Student N.5:\")\n",
    "print(student_n5)"
   ]
  },
  {
   "cell_type": "code",
   "execution_count": 42,
   "metadata": {},
   "outputs": [
    {
     "name": "stdout",
     "output_type": "stream",
     "text": [
      "44\n"
     ]
    }
   ],
   "source": [
    "Total_sum=int(student_n1)+int(student_n2)+int(student_n3)+int(student_n4)+int(student_n5)\n",
    "\n",
    "print(Total_sum)\n"
   ]
  },
  {
   "cell_type": "code",
   "execution_count": 43,
   "metadata": {},
   "outputs": [
    {
     "name": "stdout",
     "output_type": "stream",
     "text": [
      "[5, 9, 10]\n"
     ]
    }
   ],
   "source": [
    "#new list by selecting only the grades of the first, third, and fifth students \n",
    "#entered by the teacher, and sort them in ascending order.\n",
    "\n",
    "selected_grades = [int(student_n1),int(student_n3),int(student_n5)]\n",
    "\n",
    "#print(selected_grades)\n",
    "\n",
    "selected_grades.sort()\n",
    "\n",
    "print(selected_grades)\n",
    "\n"
   ]
  },
  {
   "cell_type": "code",
   "execution_count": 44,
   "metadata": {},
   "outputs": [
    {
     "name": "stdout",
     "output_type": "stream",
     "text": [
      "[10, 8, 9, 12, 5]\n",
      "the lenght is:  5\n"
     ]
    }
   ],
   "source": [
    "#all grades in a list\n",
    "\n",
    "all_grades = [int(student_n1),int(student_n2),int(student_n3),int(student_n4),int(student_n5)]\n",
    "\n",
    "print(all_grades)\n",
    "\n",
    "print(\"the lenght is: \", len(all_grades))\n",
    "\n"
   ]
  },
  {
   "cell_type": "code",
   "execution_count": 106,
   "metadata": {},
   "outputs": [
    {
     "name": "stdout",
     "output_type": "stream",
     "text": [
      "the number of occurrences of the score 5 in the list is: 1\n"
     ]
    }
   ],
   "source": [
    "#Finally, the program will print out the new list, along with its length and \n",
    "#the number of occurrences of the score 5 in the list. This will give the teacher \n",
    "#a good overview of the performance of the selected students, \n",
    "#and help them identify any potential issues early on.\n",
    "\n",
    "all_grades = [int(student_n1),int(student_n2),int(student_n3),int(student_n4),int(student_n5)]\n",
    "\n",
    "#new_list=[]\n",
    "count=0\n",
    "\n",
    "\n",
    "for i in all_grades:\n",
    "    if i == 5:\n",
    "            #new_list.append(all_grades)\n",
    "            count=+1\n",
    "            \n",
    "            \n",
    "       \n",
    "    \n",
    "else:\n",
    "\n",
    "    a=5\n",
    "     \n",
    "print(\"the number of occurrences of the score 5 in the list is:\",count)    \n",
    "    \n",
    "\n",
    "\n"
   ]
  },
  {
   "cell_type": "code",
   "execution_count": null,
   "metadata": {},
   "outputs": [],
   "source": [
    "#Finally, the program will print out the new list, along with its length and \n",
    "#the number of occurrences of the score 5 in the list. This will give the teacher \n",
    "#a good overview of the performance of the selected students, \n",
    "#and help them identify any potential issues early on.\n",
    "\n",
    "all_grades = [int(student_n1),int(student_n2),int(student_n3),int(student_n4),int(student_n5)]\n",
    "\n",
    "#new_list=[]\n",
    "count=0\n",
    "passed= 0\n",
    "\n",
    "for i in all_grades:\n",
    "    if i == 5:\n",
    "            #new_list.append(all_grades)\n",
    "            count=+1\n",
    "            \n",
    "            print(\"the number of occurrences of the score 5 in the list is:\",count)\n",
    "       \n",
    "    \n",
    "elif i > 5:\n",
    "\n",
    "    passed=+1\n",
    "     \n",
    "    \n",
    "    print(passed,\"approved\")"
   ]
  },
  {
   "cell_type": "code",
   "execution_count": null,
   "metadata": {},
   "outputs": [],
   "source": []
  },
  {
   "cell_type": "markdown",
   "metadata": {},
   "source": [
    "## Exercise 2: Tuples"
   ]
  },
  {
   "cell_type": "markdown",
   "metadata": {},
   "source": [
    "Imagine you're running a fruit stand and want to keep track of your inventory. Write a Python program that does the following:\n",
    "\n",
    "- Initializes a tuple with 5 different types of fruit.\n",
    "- Outputs the first and last elements of the tuple, so you can see the full range of fruits the store offers.\n",
    "- Replaces the second element of the tuple with a new fruit that the store has recently received, and prints the updated tuple so you can see the changes.\n",
    "- Concatenates a new tuple containing 2 additional fruits to the original tuple, so you can add them to the store inventory, and prints the resulting tuple to see the updated inventory.\n",
    "- Splits the resulting tuple into 2 tuples of 3 elements each (the first tuple contains the first 3 elements, and the second tuple contains the last 3 elements), so you can organize the inventory more effectively.\n",
    "- Combines the 2 tuples from the previous step with the original tuple into a new tuple, and prints the resulting tuple and its length, so you can see the final inventory after all the changes."
   ]
  },
  {
   "cell_type": "markdown",
   "metadata": {},
   "source": [
    "*Recommended External Resources: [Python Tuples Examples and Methods](https://www.w3schools.com/python/python_tuples.asp)*\n",
    "\n"
   ]
  },
  {
   "cell_type": "code",
   "execution_count": 57,
   "metadata": {},
   "outputs": [
    {
     "name": "stdout",
     "output_type": "stream",
     "text": [
      "['Ananas', 'appel', 'grapes', 'watermelon', 'strawberry']\n"
     ]
    }
   ],
   "source": [
    "# Your code here\n",
    "\n",
    "my_fruits = [\"Ananas\", \"appel\", \"grapes\", \"watermelon\", \"strawberry\"]\n",
    "\n",
    "\n",
    "print(my_fruits)"
   ]
  },
  {
   "cell_type": "code",
   "execution_count": 59,
   "metadata": {},
   "outputs": [
    {
     "name": "stdout",
     "output_type": "stream",
     "text": [
      "('Ananas', 'appel', 'grapes', 'watermelon', 'strawberry')\n"
     ]
    }
   ],
   "source": [
    "my_fruits_tuple = tuple(my_fruits)\n",
    "\n",
    "print(my_fruits_tuple)"
   ]
  },
  {
   "cell_type": "code",
   "execution_count": 60,
   "metadata": {},
   "outputs": [
    {
     "data": {
      "text/plain": [
       "'Ananas'"
      ]
     },
     "execution_count": 60,
     "metadata": {},
     "output_type": "execute_result"
    }
   ],
   "source": [
    "my_fruits_tuple[0]"
   ]
  },
  {
   "cell_type": "code",
   "execution_count": 62,
   "metadata": {},
   "outputs": [
    {
     "data": {
      "text/plain": [
       "'strawberry'"
      ]
     },
     "execution_count": 62,
     "metadata": {},
     "output_type": "execute_result"
    }
   ],
   "source": [
    "my_fruits_tuple[4]"
   ]
  },
  {
   "cell_type": "code",
   "execution_count": 67,
   "metadata": {},
   "outputs": [
    {
     "name": "stdout",
     "output_type": "stream",
     "text": [
      "['Mango', 'appel', 'grapes', 'watermelon', 'strawberry']\n",
      "('Mango', 'appel', 'grapes', 'watermelon', 'strawberry')\n"
     ]
    }
   ],
   "source": [
    "#Replaces the second element of the tuple with a new fruit that the store has recently received,\n",
    "#and prints the updated tuple so you can see the changes.\n",
    "\n",
    "\n",
    "my_fruits[0]=\"Mango\"\n",
    "print(my_fruits)\n",
    "\n",
    "my_fruits_tuple2=tuple(my_fruits)\n",
    "\n",
    "print(my_fruits_tuple2)\n"
   ]
  },
  {
   "cell_type": "code",
   "execution_count": 73,
   "metadata": {},
   "outputs": [
    {
     "name": "stdout",
     "output_type": "stream",
     "text": [
      "['limon', 'kiwi', 'Mango', 'appel', 'grapes', 'watermelon', 'strawberry']\n",
      "('limon', 'kiwi', 'Mango', 'appel', 'grapes', 'watermelon', 'strawberry')\n"
     ]
    }
   ],
   "source": [
    "#Concatenates a new tuple containing 2 additional fruits to the original tuple, \n",
    "#so you can add them to the store inventory, \n",
    "#and prints the resulting tuple to see the updated inventory.\n",
    "\n",
    "new_fruits_tuple = (\"limon\", \"kiwi\")\n",
    "\n",
    "new_fruits_list = list(new_fruits_tuple)\n",
    "\n",
    "new_inventory= new_fruits_list + my_fruits\n",
    "\n",
    "print(new_inventory)\n",
    "\n",
    "new_inventory_Tuple = tuple(new_inventory)\n",
    "\n",
    "print(new_inventory_Tuple)\n",
    "\n",
    "#new_fruits_list.append(my_fruits)\n",
    "\n",
    "#print(new_fruits_list.append(my_fruits))\n",
    "\n"
   ]
  },
  {
   "cell_type": "code",
   "execution_count": 88,
   "metadata": {},
   "outputs": [
    {
     "name": "stdout",
     "output_type": "stream",
     "text": [
      "['limon', 'kiwi', 'Mango']\n",
      "['grapes', 'watermelon', 'strawberry']\n",
      "('limon', 'kiwi', 'Mango')\n",
      "('grapes', 'watermelon', 'strawberry')\n"
     ]
    }
   ],
   "source": [
    "#Splits the resulting tuple into 2 tuples of 3 elements each \n",
    "#(the first tuple contains the first 3 elements, and the second tuple contains the last 3 elements),\n",
    "#so you can organize the inventory more effectively.\n",
    "\n",
    "middle_index=3\n",
    "\n",
    "first_list=new_inventory[:middle_index]\n",
    "\n",
    "#second_list=new_inventory[middle_index:]\n",
    "second_list= new_inventory[4:7]\n",
    "\n",
    "#[]\n",
    "print(first_list)\n",
    "print(second_list)\n",
    "\n",
    "first_list_tuple = tuple(first_list)\n",
    "second_list_tuple = tuple(second_list)\n",
    "\n",
    "print(first_list_tuple )\n",
    "print(second_list_tuple)\n",
    "\n",
    "\n",
    "#print(new_inventory.split[::3])\n",
    "#print(new_inventory.split[0,1,2])\n",
    "#print(new_inventory.split[3,4,5])\n"
   ]
  },
  {
   "cell_type": "code",
   "execution_count": 89,
   "metadata": {},
   "outputs": [
    {
     "name": "stdout",
     "output_type": "stream",
     "text": [
      "('limon', 'kiwi', 'Mango', 'grapes', 'watermelon', 'strawberry', 'Ananas', 'appel', 'grapes', 'watermelon', 'strawberry')\n",
      "8\n"
     ]
    }
   ],
   "source": [
    "#Combines the 2 tuples from the previous step with the original tuple \n",
    "#into a new tuple, and prints the resulting tuple and its length,\n",
    "#so you can see the final inventory after all the changes.\n",
    "\n",
    "new_final_inventory_tuple = first_list_tuple + second_list_tuple + my_fruits_tuple\n",
    "\n",
    "\n",
    "print(new_final_inventory_tuple)\n",
    "print(len(set(new_final_inventory_tuple)))\n",
    "\n"
   ]
  },
  {
   "cell_type": "markdown",
   "metadata": {},
   "source": [
    "## Exercise 3: Sets"
   ]
  },
  {
   "cell_type": "markdown",
   "metadata": {},
   "source": [
    "Imagine you are a data analyst working for a literature museum. Your manager has given you two poems to analyze, and she wants you to write a Python program to extract useful information from them.\n",
    "\n",
    "Your program should:\n",
    "\n",
    "- Create two sets, one for each poem, containing all unique words in both poems (ignoring case and punctuation).\n",
    "- Print the number of unique words in each set.\n",
    "- Identify and print the unique words present in the first poem but not in the second one.\n",
    "- Identify and print the unique words present in the second poem but not in the first one.\n",
    "- Identify and print the unique words present in both poems and print it in alphabetical order."
   ]
  },
  {
   "cell_type": "markdown",
   "metadata": {},
   "source": [
    "*Recommended External Resources:*\n",
    "- *[Python Sets](https://www.w3schools.com/python/python_sets.asp)* \n",
    "- *[Python Set Methods](https://www.w3schools.com/python/python_ref_set.asp)*\n",
    "- *[Python String Methods](https://www.w3schools.com/python/python_ref_string.asp)*\n"
   ]
  },
  {
   "cell_type": "code",
   "execution_count": 134,
   "metadata": {},
   "outputs": [],
   "source": [
    "poem = \"\"\"Some say the world will end in fire,\n",
    "Some say in ice.\n",
    "From what I’ve tasted of desire\n",
    "I hold with those who favor fire.\n",
    "But if it had to perish twice,\n",
    "I think I know enough of hate\n",
    "To say that for destruction ice\n",
    "Is also great\n",
    "And would suffice.\"\"\"\n",
    "\n",
    "new_poem = \"\"\"Some say life is but a dream,\n",
    "Some say it's a test.\n",
    "From what I've seen and what I deem,\n",
    "I side with those who see it as a quest.\n",
    "\n",
    "But if it had to end today,\n",
    "I think I know enough of love,\n",
    "To say that though it fades away,\n",
    "It's still what we are made of.\"\"\""
   ]
  },
  {
   "cell_type": "code",
   "execution_count": 138,
   "metadata": {},
   "outputs": [
    {
     "name": "stdout",
     "output_type": "stream",
     "text": [
      "{'i’ve', 'fire,', 'of', 'that', 'will', 'and', 'but', 'ice.', 'say', 'ice', 'great', 'in', 'if', 'think', 'enough', 'is', 'with', 'know', 'also', 'twice,', 'from', 'to', 'it', 'some', 'destruction', 'suffice.', 'hate', 'end', 'hold', 'for', 'fire.', 'had', 'what', 'desire', 'i', 'would', 'who', 'world', 'the', 'favor', 'perish', 'those', 'tasted'}\n"
     ]
    }
   ],
   "source": [
    "word1 = poem.lower().split()\n",
    "\n",
    "unique_words1= set(word1)\n",
    "\n",
    "print(unique_words1)\n"
   ]
  },
  {
   "cell_type": "code",
   "execution_count": 139,
   "metadata": {},
   "outputs": [
    {
     "name": "stdout",
     "output_type": "stream",
     "text": [
      "{'made', 'as', 'we', 'of', 'that', 'quest.', 'deem,', 'away,', 'of.', 'and', 'but', 'fades', 'say', 'are', 'if', 'a', 'think', 'is', 'enough', 'with', 'know', 'from', 'to', 'still', 'it', 'some', 'life', 'end', 'had', 'love,', 'test.', 'what', 'i', 'side', \"it's\", 'who', 'today,', 'though', 'dream,', 'seen', 'see', \"i've\", 'those'}\n"
     ]
    }
   ],
   "source": [
    "word2 = new_poem.lower().split()\n",
    "\n",
    "unique_words2= set(word2)\n",
    "\n",
    "print(unique_words2)"
   ]
  },
  {
   "cell_type": "code",
   "execution_count": 140,
   "metadata": {},
   "outputs": [
    {
     "data": {
      "text/plain": [
       "43"
      ]
     },
     "execution_count": 140,
     "metadata": {},
     "output_type": "execute_result"
    }
   ],
   "source": [
    "#Print the number of unique words in each set.\n",
    "\n",
    "len(set(word1))"
   ]
  },
  {
   "cell_type": "code",
   "execution_count": 141,
   "metadata": {},
   "outputs": [
    {
     "data": {
      "text/plain": [
       "43"
      ]
     },
     "execution_count": 141,
     "metadata": {},
     "output_type": "execute_result"
    }
   ],
   "source": [
    "len(set(word2))"
   ]
  },
  {
   "cell_type": "code",
   "execution_count": 143,
   "metadata": {},
   "outputs": [],
   "source": [
    "word1 = {'i’ve', 'fire,', 'of', 'that', 'will', 'and', 'but', 'ice.', 'say', 'ice', 'great', 'in', 'if', 'think', 'enough', 'is', 'with', 'know', 'also', 'twice,', 'from', 'to', 'it', 'some', 'destruction', 'suffice.', 'hate', 'end', 'hold', 'for', 'fire.', 'had', 'what', 'desire', 'i', 'would', 'who', 'world', 'the', 'favor', 'perish', 'those', 'tasted'}\n",
    "word2 = {'made', 'as', 'we', 'of', 'that', 'quest.', 'deem,', 'away,', 'of.', 'and', 'but', 'fades', 'say', 'are', 'if', 'a', 'think', 'is', 'enough', 'with', 'know', 'from', 'to', 'still', 'it', 'some', 'life', 'end', 'had', 'love,', 'test.', 'what', 'i', 'side', \"it's\", 'who', 'today,', 'though', 'dream,', 'seen', 'see', \"i've\", 'those'}"
   ]
  },
  {
   "cell_type": "code",
   "execution_count": 144,
   "metadata": {
    "scrolled": true
   },
   "outputs": [
    {
     "name": "stdout",
     "output_type": "stream",
     "text": [
      "{'i’ve', 'fire,', 'will', 'ice.', 'ice', 'great', 'in', 'also', 'twice,', 'destruction', 'suffice.', 'hate', 'hold', 'for', 'fire.', 'desire', 'would', 'world', 'the', 'favor', 'perish', 'tasted'}\n"
     ]
    }
   ],
   "source": [
    "#Identify and print the unique words present in the first poem but not in the second one.\n",
    "\n",
    "difference_1 = word1 - word2\n",
    "\n",
    "print(difference_1)\n"
   ]
  },
  {
   "cell_type": "code",
   "execution_count": 145,
   "metadata": {},
   "outputs": [
    {
     "name": "stdout",
     "output_type": "stream",
     "text": [
      "{'made', 'as', 'we', 'quest.', 'deem,', 'away,', 'of.', 'are', 'fades', 'a', 'still', 'life', 'love,', 'test.', 'side', \"it's\", 'today,', 'though', 'dream,', 'seen', 'see', \"i've\"}\n"
     ]
    }
   ],
   "source": [
    "difference_2 = word2 - word1\n",
    "\n",
    "print(difference_2)"
   ]
  },
  {
   "cell_type": "code",
   "execution_count": 146,
   "metadata": {},
   "outputs": [
    {
     "data": {
      "text/plain": [
       "{'a',\n",
       " 'also',\n",
       " 'are',\n",
       " 'as',\n",
       " 'away,',\n",
       " 'deem,',\n",
       " 'desire',\n",
       " 'destruction',\n",
       " 'dream,',\n",
       " 'fades',\n",
       " 'favor',\n",
       " 'fire,',\n",
       " 'fire.',\n",
       " 'for',\n",
       " 'great',\n",
       " 'hate',\n",
       " 'hold',\n",
       " \"i've\",\n",
       " 'ice',\n",
       " 'ice.',\n",
       " 'in',\n",
       " \"it's\",\n",
       " 'i’ve',\n",
       " 'life',\n",
       " 'love,',\n",
       " 'made',\n",
       " 'of.',\n",
       " 'perish',\n",
       " 'quest.',\n",
       " 'see',\n",
       " 'seen',\n",
       " 'side',\n",
       " 'still',\n",
       " 'suffice.',\n",
       " 'tasted',\n",
       " 'test.',\n",
       " 'the',\n",
       " 'though',\n",
       " 'today,',\n",
       " 'twice,',\n",
       " 'we',\n",
       " 'will',\n",
       " 'world',\n",
       " 'would'}"
      ]
     },
     "execution_count": 146,
     "metadata": {},
     "output_type": "execute_result"
    }
   ],
   "source": [
    "total_difference = difference_1.union(difference_2)\n",
    "total_difference"
   ]
  },
  {
   "cell_type": "markdown",
   "metadata": {},
   "source": [
    "## Exercise 4: Dictionaries"
   ]
  },
  {
   "cell_type": "markdown",
   "metadata": {},
   "source": [
    "Consider the following dictionary of students with their scores in different subjects. One of the students, Bob, has complained about his score in Philosophy and, after reviewing it, the teacher has decided to update his score to 100. Write a Python program that updates Bob's score in Philosophy to 100 in the dictionary."
   ]
  },
  {
   "cell_type": "markdown",
   "metadata": {},
   "source": [
    "*Recommended External Resources: [Python Dictionary Examples and Methods](https://www.w3schools.com/python/python_dictionaries.asp)*\n"
   ]
  },
  {
   "cell_type": "code",
   "execution_count": 150,
   "metadata": {},
   "outputs": [],
   "source": [
    "grades = {'Alice': {'Physics': 75, 'Math': 85, 'Chemistry': 60, 'Philosophy': 90}, 'Bob': {'Physics': 75, 'Math': 85, 'Chemistry': 60, 'Philosophy': 90}}"
   ]
  },
  {
   "cell_type": "code",
   "execution_count": 153,
   "metadata": {},
   "outputs": [
    {
     "name": "stdout",
     "output_type": "stream",
     "text": [
      "{'Bob': {'Philosophy': 100}}\n"
     ]
    }
   ],
   "source": [
    "# Your code here\n",
    "\n",
    "grades = {\"Bob\":{\"Philosophy\":90}}\n",
    "\n",
    "grades[\"Bob\"][\"Philosophy\"]=100\n",
    "\n",
    "print(grades)\n"
   ]
  },
  {
   "cell_type": "markdown",
   "metadata": {},
   "source": [
    "## Bonus"
   ]
  },
  {
   "cell_type": "markdown",
   "metadata": {},
   "source": [
    "1. Below are the two lists. Write a Python program to convert them into a dictionary in a way that item from list1 is the key and item from list2 is the value."
   ]
  },
  {
   "cell_type": "markdown",
   "metadata": {},
   "source": [
    "*Hint: Use the zip() function. This function takes two or more iterables (like list, dict, string), aggregates them in a tuple, and returns it. Afterwards, you can use a function that turns a tuple into a dictionary.*"
   ]
  },
  {
   "cell_type": "markdown",
   "metadata": {},
   "source": [
    "*Recommended External Resources: [Python Zip Function](https://www.w3schools.com/python/ref_func_zip.asp)*\n"
   ]
  },
  {
   "cell_type": "code",
   "execution_count": null,
   "metadata": {},
   "outputs": [],
   "source": [
    "keys = ['Physics', 'Math', 'Chemistry', 'Philosophy']\n",
    "values = [75, 85, 60,90]\n",
    "\n",
    "# Your code here"
   ]
  },
  {
   "cell_type": "markdown",
   "metadata": {},
   "source": [
    "2. Get the subject with the minimum score from the previous dictionary."
   ]
  },
  {
   "cell_type": "markdown",
   "metadata": {},
   "source": [
    "*Hint: Use the built-in function min(). Read about the parameter key.*"
   ]
  },
  {
   "cell_type": "markdown",
   "metadata": {},
   "source": [
    "\n",
    "*Recommended External Resources:*\n",
    "- *[Python Min Function Official Documentation](https://docs.python.org/3.8/library/functions.html#min)*\n",
    "- *[How to use key function in max and min in Python](https://medium.com/analytics-vidhya/how-to-use-key-function-in-max-and-min-in-python-1fdbd661c59c)*"
   ]
  },
  {
   "cell_type": "code",
   "execution_count": null,
   "metadata": {},
   "outputs": [],
   "source": [
    "# Your code here"
   ]
  }
 ],
 "metadata": {
  "kernelspec": {
   "display_name": "Python 3 (ipykernel)",
   "language": "python",
   "name": "python3"
  },
  "language_info": {
   "codemirror_mode": {
    "name": "ipython",
    "version": 3
   },
   "file_extension": ".py",
   "mimetype": "text/x-python",
   "name": "python",
   "nbconvert_exporter": "python",
   "pygments_lexer": "ipython3",
   "version": "3.9.13"
  }
 },
 "nbformat": 4,
 "nbformat_minor": 4
}
