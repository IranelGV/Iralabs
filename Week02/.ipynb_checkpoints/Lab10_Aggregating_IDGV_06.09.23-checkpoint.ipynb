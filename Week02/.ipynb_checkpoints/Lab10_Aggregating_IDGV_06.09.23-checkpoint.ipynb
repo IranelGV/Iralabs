{
 "cells": [
  {
   "cell_type": "markdown",
   "id": "31969215-2a90-4d8b-ac36-646a7ae13744",
   "metadata": {},
   "source": [
    "# Lab | Data Aggregation and Filtering"
   ]
  },
  {
   "cell_type": "markdown",
   "id": "769df97b-bcc6-4ab0-9b87-eb04853d4351",
   "metadata": {},
   "source": [
    "Objective: Use Python programming techniques to filter and order data subsets, group data by one or more variables, and use aggregation functions to obtain insights, and derive meaningful conclusions from the data."
   ]
  },
  {
   "cell_type": "markdown",
   "id": "a8f08a52-bec0-439b-99cc-11d3809d8b5d",
   "metadata": {},
   "source": [
    "In this challenge, we will continue to work with customer data from an insurance company. We will use the dataset called marketing_customer_analysis.csv, which can be found at the following link:\n",
    "\n",
    "https://raw.githubusercontent.com/data-bootcamp-v4/data/main/marketing_customer_analysis.csv\n",
    "\n",
    "This dataset contains information such as customer demographics, policy details, vehicle information, and the customer's response to the last marketing campaign. Our goal is to explore and analyze this data by performing first data cleaning, formatting, and structuring."
   ]
  },
  {
   "cell_type": "markdown",
   "id": "c2a39af7-a37b-43f1-a413-3e163a55125e",
   "metadata": {},
   "source": [
    "Start by reading the dataset, standardizing column names, dealing with null values and creating the month column. You can do so by using the functions you developed in previous labs, or by reading the clean dataset you saved in the last lab `data structuring and combining`."
   ]
  },
  {
   "cell_type": "markdown",
   "id": "0a3bc930-db26-4fd4-b261-ea03e12f3a26",
   "metadata": {},
   "source": [
    "Then, answer the following questions:"
   ]
  },
  {
   "cell_type": "markdown",
   "id": "9c98ddc5-b041-4c94-ada1-4dfee5c98e50",
   "metadata": {},
   "source": [
    "1. Create a new DataFrame that only includes customers who have a total_claim_amount greater than $1,000 and have a response of \"Yes\" to the last marketing campaign."
   ]
  },
  {
   "cell_type": "markdown",
   "id": "341352f7-305d-4928-be75-4a4a342205b5",
   "metadata": {},
   "source": [
    "2. Analyze the average total_claim_amount by each policy type and gender for customers who have responded \"Yes\" to the last marketing campaign."
   ]
  },
  {
   "cell_type": "markdown",
   "id": "7050f4ac-53c5-4193-a3c0-8699b87196f0",
   "metadata": {},
   "source": [
    "3. Analyze the total number of customers who have policies in each state, and then filter the results to only include states where there are more than 500 customers."
   ]
  },
  {
   "cell_type": "markdown",
   "id": "2661421c-0534-4d5c-b803-d05459277f82",
   "metadata": {},
   "source": [
    "4. Find the median customer lifetime value by education level and gender."
   ]
  },
  {
   "cell_type": "markdown",
   "id": "867b0167-09e2-4111-91c8-b4fb9596d741",
   "metadata": {},
   "source": [
    "5. Find the maximum, minimum, and average number of open complaints by state and policy type."
   ]
  },
  {
   "cell_type": "markdown",
   "id": "81ff02c5-6584-4f21-a358-b918697c6432",
   "metadata": {},
   "source": [
    "6. The marketing team wants to analyze the number of policies sold by state and month.\n",
    "\n",
    "Present the data in a table where the months are arranged as columns and the states are arranged as rows."
   ]
  },
  {
   "cell_type": "markdown",
   "id": "b6aec097-c633-4017-a125-e77a97259cda",
   "metadata": {},
   "source": [
    "7. Display a new DataFrame that contains the number of policies sold by month by state for the top 3 states with the highest number of policies sold.\n",
    "\n",
    "*Hint:* \n",
    "- *To accomplish this, you will first need to group the data by state and month, then count the number of policies sold for each group. Afterwards, you will need to sort the data by the count of policies sold in descending order.*\n",
    "- *Next, you will select the top 3 states with the highest number of policies sold.*\n",
    "- *Finally, you will create a new DataFrame that contains the number of policies sold by month for each of the top 3 states.*"
   ]
  },
  {
   "cell_type": "markdown",
   "id": "ba975b8a-a2cf-4fbf-9f59-ebc381767009",
   "metadata": {},
   "source": [
    "8. The marketing team wants to analyze the effect of different marketing channels on the customer response rate.\n",
    "\n",
    "Hint: You can use melt to unpivot the data and create a table that shows the customer response rate (those who responded \"Yes\") by marketing channel."
   ]
  },
  {
   "cell_type": "markdown",
   "id": "e4378d94-48fb-4850-a802-b1bc8f427b2d",
   "metadata": {},
   "source": [
    "External Resources for Data Filtering: https://towardsdatascience.com/filtering-data-frames-in-pandas-b570b1f834b9"
   ]
  },
  {
   "cell_type": "code",
   "execution_count": 36,
   "id": "449513f4-0459-46a0-a18d-9398d974c9ad",
   "metadata": {},
   "outputs": [],
   "source": [
    "# your code goes here\n",
    "\n",
    "import pandas as pd\n",
    "import numpy as np\n",
    "import matplotlib.pyplot as plt\n",
    "import seaborn as sns\n",
    "%matplotlib inline"
   ]
  },
  {
   "cell_type": "code",
   "execution_count": 37,
   "id": "61e8a627",
   "metadata": {},
   "outputs": [],
   "source": [
    "df = pd.read_csv('Data_creaned_by_teachers.csv')"
   ]
  },
  {
   "cell_type": "markdown",
   "id": "255c9081",
   "metadata": {},
   "source": [
    "1. Create a new DataFrame that only includes customers who have a total_claim_amount greater than $1,000 and have a response of \"Yes\" to the last marketing campaign."
   ]
  },
  {
   "cell_type": "code",
   "execution_count": 38,
   "id": "54940865",
   "metadata": {},
   "outputs": [
    {
     "data": {
      "text/plain": [
       "Index(['region', 'customer_lifetime_value', 'response', 'coverage',\n",
       "       'education', 'effective_to_date', 'month', 'employment_status',\n",
       "       'gender', 'income', 'location_code', 'marital_status',\n",
       "       'monthly_premium_auto', 'months_since_last_claim',\n",
       "       'months_since_policy_inception', 'number_of_open_complaints',\n",
       "       'number_of_policies', 'policy_type', 'policy', 'renew_offer_type',\n",
       "       'sales_channel', 'total_claim_amount', 'vehicle_class', 'vehicle_size'],\n",
       "      dtype='object')"
      ]
     },
     "execution_count": 38,
     "metadata": {},
     "output_type": "execute_result"
    }
   ],
   "source": [
    "df.columns"
   ]
  },
  {
   "cell_type": "code",
   "execution_count": 77,
   "id": "fa2a9ccf",
   "metadata": {},
   "outputs": [],
   "source": [
    "nw_df= df[(df[\"total_claim_amount\"]>1000) & (df['response'] == 'yes')]"
   ]
  },
  {
   "cell_type": "code",
   "execution_count": 78,
   "id": "cd423be3",
   "metadata": {},
   "outputs": [
    {
     "data": {
      "text/html": [
       "<div>\n",
       "<style scoped>\n",
       "    .dataframe tbody tr th:only-of-type {\n",
       "        vertical-align: middle;\n",
       "    }\n",
       "\n",
       "    .dataframe tbody tr th {\n",
       "        vertical-align: top;\n",
       "    }\n",
       "\n",
       "    .dataframe thead th {\n",
       "        text-align: right;\n",
       "    }\n",
       "</style>\n",
       "<table border=\"1\" class=\"dataframe\">\n",
       "  <thead>\n",
       "    <tr style=\"text-align: right;\">\n",
       "      <th></th>\n",
       "      <th>region</th>\n",
       "      <th>customer_lifetime_value</th>\n",
       "      <th>response</th>\n",
       "      <th>coverage</th>\n",
       "      <th>education</th>\n",
       "      <th>effective_to_date</th>\n",
       "      <th>month</th>\n",
       "      <th>employment_status</th>\n",
       "      <th>gender</th>\n",
       "      <th>income</th>\n",
       "      <th>...</th>\n",
       "      <th>months_since_policy_inception</th>\n",
       "      <th>number_of_open_complaints</th>\n",
       "      <th>number_of_policies</th>\n",
       "      <th>policy_type</th>\n",
       "      <th>policy</th>\n",
       "      <th>renew_offer_type</th>\n",
       "      <th>sales_channel</th>\n",
       "      <th>total_claim_amount</th>\n",
       "      <th>vehicle_class</th>\n",
       "      <th>vehicle_size</th>\n",
       "    </tr>\n",
       "  </thead>\n",
       "  <tbody>\n",
       "    <tr>\n",
       "      <th>189</th>\n",
       "      <td>west region</td>\n",
       "      <td>11009</td>\n",
       "      <td>yes</td>\n",
       "      <td>premium</td>\n",
       "      <td>bachelor</td>\n",
       "      <td>1/24/11</td>\n",
       "      <td>jan</td>\n",
       "      <td>employed</td>\n",
       "      <td>f</td>\n",
       "      <td>51643</td>\n",
       "      <td>...</td>\n",
       "      <td>43</td>\n",
       "      <td>0</td>\n",
       "      <td>1</td>\n",
       "      <td>corporate auto</td>\n",
       "      <td>corporate l3</td>\n",
       "      <td>offer2</td>\n",
       "      <td>agent</td>\n",
       "      <td>1358</td>\n",
       "      <td>luxury car</td>\n",
       "      <td>medsize</td>\n",
       "    </tr>\n",
       "    <tr>\n",
       "      <th>236</th>\n",
       "      <td>north west</td>\n",
       "      <td>11009</td>\n",
       "      <td>yes</td>\n",
       "      <td>premium</td>\n",
       "      <td>bachelor</td>\n",
       "      <td>1/24/11</td>\n",
       "      <td>jan</td>\n",
       "      <td>employed</td>\n",
       "      <td>f</td>\n",
       "      <td>51643</td>\n",
       "      <td>...</td>\n",
       "      <td>43</td>\n",
       "      <td>0</td>\n",
       "      <td>1</td>\n",
       "      <td>special auto</td>\n",
       "      <td>special l3</td>\n",
       "      <td>offer2</td>\n",
       "      <td>agent</td>\n",
       "      <td>1358</td>\n",
       "      <td>luxury car</td>\n",
       "      <td>medsize</td>\n",
       "    </tr>\n",
       "    <tr>\n",
       "      <th>419</th>\n",
       "      <td>north west</td>\n",
       "      <td>25807</td>\n",
       "      <td>yes</td>\n",
       "      <td>extended</td>\n",
       "      <td>college</td>\n",
       "      <td>2/13/11</td>\n",
       "      <td>feb</td>\n",
       "      <td>employed</td>\n",
       "      <td>f</td>\n",
       "      <td>71210</td>\n",
       "      <td>...</td>\n",
       "      <td>89</td>\n",
       "      <td>1</td>\n",
       "      <td>2</td>\n",
       "      <td>personal auto</td>\n",
       "      <td>personal l2</td>\n",
       "      <td>offer1</td>\n",
       "      <td>branch</td>\n",
       "      <td>1027</td>\n",
       "      <td>luxury car</td>\n",
       "      <td>small</td>\n",
       "    </tr>\n",
       "    <tr>\n",
       "      <th>442</th>\n",
       "      <td>central</td>\n",
       "      <td>13736</td>\n",
       "      <td>yes</td>\n",
       "      <td>premium</td>\n",
       "      <td>master</td>\n",
       "      <td>2/13/11</td>\n",
       "      <td>feb</td>\n",
       "      <td>disabled</td>\n",
       "      <td>f</td>\n",
       "      <td>16181</td>\n",
       "      <td>...</td>\n",
       "      <td>79</td>\n",
       "      <td>0</td>\n",
       "      <td>8</td>\n",
       "      <td>personal auto</td>\n",
       "      <td>personal l2</td>\n",
       "      <td>offer1</td>\n",
       "      <td>web</td>\n",
       "      <td>1261</td>\n",
       "      <td>suv</td>\n",
       "      <td>medsize</td>\n",
       "    </tr>\n",
       "    <tr>\n",
       "      <th>475</th>\n",
       "      <td>west region</td>\n",
       "      <td>17622</td>\n",
       "      <td>yes</td>\n",
       "      <td>premium</td>\n",
       "      <td>high school or below</td>\n",
       "      <td>2/18/11</td>\n",
       "      <td>feb</td>\n",
       "      <td>unemployed</td>\n",
       "      <td>m</td>\n",
       "      <td>41167</td>\n",
       "      <td>...</td>\n",
       "      <td>10</td>\n",
       "      <td>0</td>\n",
       "      <td>3</td>\n",
       "      <td>corporate auto</td>\n",
       "      <td>corporate l2</td>\n",
       "      <td>offer4</td>\n",
       "      <td>branch</td>\n",
       "      <td>1814</td>\n",
       "      <td>luxury suv</td>\n",
       "      <td>medsize</td>\n",
       "    </tr>\n",
       "    <tr>\n",
       "      <th>...</th>\n",
       "      <td>...</td>\n",
       "      <td>...</td>\n",
       "      <td>...</td>\n",
       "      <td>...</td>\n",
       "      <td>...</td>\n",
       "      <td>...</td>\n",
       "      <td>...</td>\n",
       "      <td>...</td>\n",
       "      <td>...</td>\n",
       "      <td>...</td>\n",
       "      <td>...</td>\n",
       "      <td>...</td>\n",
       "      <td>...</td>\n",
       "      <td>...</td>\n",
       "      <td>...</td>\n",
       "      <td>...</td>\n",
       "      <td>...</td>\n",
       "      <td>...</td>\n",
       "      <td>...</td>\n",
       "      <td>...</td>\n",
       "      <td>...</td>\n",
       "    </tr>\n",
       "    <tr>\n",
       "      <th>10032</th>\n",
       "      <td>central</td>\n",
       "      <td>13736</td>\n",
       "      <td>yes</td>\n",
       "      <td>premium</td>\n",
       "      <td>master</td>\n",
       "      <td>2/13/11</td>\n",
       "      <td>feb</td>\n",
       "      <td>disabled</td>\n",
       "      <td>f</td>\n",
       "      <td>16181</td>\n",
       "      <td>...</td>\n",
       "      <td>79</td>\n",
       "      <td>0</td>\n",
       "      <td>8</td>\n",
       "      <td>personal auto</td>\n",
       "      <td>personal l3</td>\n",
       "      <td>offer1</td>\n",
       "      <td>web</td>\n",
       "      <td>1261</td>\n",
       "      <td>suv</td>\n",
       "      <td>medsize</td>\n",
       "    </tr>\n",
       "    <tr>\n",
       "      <th>10143</th>\n",
       "      <td>north west</td>\n",
       "      <td>3508</td>\n",
       "      <td>yes</td>\n",
       "      <td>extended</td>\n",
       "      <td>college</td>\n",
       "      <td>1/5/11</td>\n",
       "      <td>jan</td>\n",
       "      <td>medical leave</td>\n",
       "      <td>m</td>\n",
       "      <td>20978</td>\n",
       "      <td>...</td>\n",
       "      <td>96</td>\n",
       "      <td>1</td>\n",
       "      <td>1</td>\n",
       "      <td>personal auto</td>\n",
       "      <td>personal l2</td>\n",
       "      <td>offer2</td>\n",
       "      <td>branch</td>\n",
       "      <td>1176</td>\n",
       "      <td>four-door car</td>\n",
       "      <td>small</td>\n",
       "    </tr>\n",
       "    <tr>\n",
       "      <th>10165</th>\n",
       "      <td>north west</td>\n",
       "      <td>10963</td>\n",
       "      <td>yes</td>\n",
       "      <td>premium</td>\n",
       "      <td>high school or below</td>\n",
       "      <td>2/8/11</td>\n",
       "      <td>feb</td>\n",
       "      <td>employed</td>\n",
       "      <td>m</td>\n",
       "      <td>55687</td>\n",
       "      <td>...</td>\n",
       "      <td>91</td>\n",
       "      <td>0</td>\n",
       "      <td>1</td>\n",
       "      <td>corporate auto</td>\n",
       "      <td>corporate l2</td>\n",
       "      <td>offer1</td>\n",
       "      <td>agent</td>\n",
       "      <td>1324</td>\n",
       "      <td>luxury suv</td>\n",
       "      <td>medsize</td>\n",
       "    </tr>\n",
       "    <tr>\n",
       "      <th>10353</th>\n",
       "      <td>north west</td>\n",
       "      <td>7840</td>\n",
       "      <td>yes</td>\n",
       "      <td>extended</td>\n",
       "      <td>college</td>\n",
       "      <td>1/14/11</td>\n",
       "      <td>jan</td>\n",
       "      <td>employed</td>\n",
       "      <td>m</td>\n",
       "      <td>58414</td>\n",
       "      <td>...</td>\n",
       "      <td>24</td>\n",
       "      <td>2</td>\n",
       "      <td>1</td>\n",
       "      <td>personal auto</td>\n",
       "      <td>personal l3</td>\n",
       "      <td>offer2</td>\n",
       "      <td>agent</td>\n",
       "      <td>1008</td>\n",
       "      <td>four-door car</td>\n",
       "      <td>medsize</td>\n",
       "    </tr>\n",
       "    <tr>\n",
       "      <th>10492</th>\n",
       "      <td>north west</td>\n",
       "      <td>5619</td>\n",
       "      <td>yes</td>\n",
       "      <td>premium</td>\n",
       "      <td>high school or below</td>\n",
       "      <td>1/26/11</td>\n",
       "      <td>jan</td>\n",
       "      <td>unemployed</td>\n",
       "      <td>m</td>\n",
       "      <td>88239</td>\n",
       "      <td>...</td>\n",
       "      <td>5</td>\n",
       "      <td>0</td>\n",
       "      <td>1</td>\n",
       "      <td>personal auto</td>\n",
       "      <td>personal l3</td>\n",
       "      <td>offer2</td>\n",
       "      <td>web</td>\n",
       "      <td>1027</td>\n",
       "      <td>suv</td>\n",
       "      <td>medsize</td>\n",
       "    </tr>\n",
       "  </tbody>\n",
       "</table>\n",
       "<p>63 rows × 24 columns</p>\n",
       "</div>"
      ],
      "text/plain": [
       "            region  customer_lifetime_value response  coverage  \\\n",
       "189    west region                    11009      yes   premium   \n",
       "236     north west                    11009      yes   premium   \n",
       "419     north west                    25807      yes  extended   \n",
       "442        central                    13736      yes   premium   \n",
       "475    west region                    17622      yes   premium   \n",
       "...            ...                      ...      ...       ...   \n",
       "10032      central                    13736      yes   premium   \n",
       "10143   north west                     3508      yes  extended   \n",
       "10165   north west                    10963      yes   premium   \n",
       "10353   north west                     7840      yes  extended   \n",
       "10492   north west                     5619      yes   premium   \n",
       "\n",
       "                  education effective_to_date month employment_status gender  \\\n",
       "189                bachelor           1/24/11   jan          employed      f   \n",
       "236                bachelor           1/24/11   jan          employed      f   \n",
       "419                 college           2/13/11   feb          employed      f   \n",
       "442                  master           2/13/11   feb          disabled      f   \n",
       "475    high school or below           2/18/11   feb        unemployed      m   \n",
       "...                     ...               ...   ...               ...    ...   \n",
       "10032                master           2/13/11   feb          disabled      f   \n",
       "10143               college            1/5/11   jan     medical leave      m   \n",
       "10165  high school or below            2/8/11   feb          employed      m   \n",
       "10353               college           1/14/11   jan          employed      m   \n",
       "10492  high school or below           1/26/11   jan        unemployed      m   \n",
       "\n",
       "       income  ... months_since_policy_inception number_of_open_complaints  \\\n",
       "189     51643  ...                            43                         0   \n",
       "236     51643  ...                            43                         0   \n",
       "419     71210  ...                            89                         1   \n",
       "442     16181  ...                            79                         0   \n",
       "475     41167  ...                            10                         0   \n",
       "...       ...  ...                           ...                       ...   \n",
       "10032   16181  ...                            79                         0   \n",
       "10143   20978  ...                            96                         1   \n",
       "10165   55687  ...                            91                         0   \n",
       "10353   58414  ...                            24                         2   \n",
       "10492   88239  ...                             5                         0   \n",
       "\n",
       "       number_of_policies     policy_type        policy  renew_offer_type  \\\n",
       "189                     1  corporate auto  corporate l3            offer2   \n",
       "236                     1    special auto    special l3            offer2   \n",
       "419                     2   personal auto   personal l2            offer1   \n",
       "442                     8   personal auto   personal l2            offer1   \n",
       "475                     3  corporate auto  corporate l2            offer4   \n",
       "...                   ...             ...           ...               ...   \n",
       "10032                   8   personal auto   personal l3            offer1   \n",
       "10143                   1   personal auto   personal l2            offer2   \n",
       "10165                   1  corporate auto  corporate l2            offer1   \n",
       "10353                   1   personal auto   personal l3            offer2   \n",
       "10492                   1   personal auto   personal l3            offer2   \n",
       "\n",
       "       sales_channel total_claim_amount  vehicle_class vehicle_size  \n",
       "189            agent               1358     luxury car      medsize  \n",
       "236            agent               1358     luxury car      medsize  \n",
       "419           branch               1027     luxury car        small  \n",
       "442              web               1261            suv      medsize  \n",
       "475           branch               1814     luxury suv      medsize  \n",
       "...              ...                ...            ...          ...  \n",
       "10032            web               1261            suv      medsize  \n",
       "10143         branch               1176  four-door car        small  \n",
       "10165          agent               1324     luxury suv      medsize  \n",
       "10353          agent               1008  four-door car      medsize  \n",
       "10492            web               1027            suv      medsize  \n",
       "\n",
       "[63 rows x 24 columns]"
      ]
     },
     "execution_count": 78,
     "metadata": {},
     "output_type": "execute_result"
    }
   ],
   "source": [
    "nw_df"
   ]
  },
  {
   "cell_type": "markdown",
   "id": "e9028494",
   "metadata": {},
   "source": [
    "2. Analyze the average total_claim_amount by each policy type and gender for customers who have responded \"Yes\" to the last marketing campaign."
   ]
  },
  {
   "cell_type": "code",
   "execution_count": 93,
   "id": "14654de5",
   "metadata": {},
   "outputs": [],
   "source": [
    "resul02 = nw_df.groupby(['policy_type', 'gender'])['total_claim_amount'].mean()"
   ]
  },
  {
   "cell_type": "raw",
   "id": "2cf008b4",
   "metadata": {},
   "source": []
  },
  {
   "cell_type": "code",
   "execution_count": null,
   "id": "ca8923f3",
   "metadata": {},
   "outputs": [],
   "source": []
  },
  {
   "cell_type": "code",
   "execution_count": null,
   "id": "503bdf81",
   "metadata": {},
   "outputs": [],
   "source": []
  },
  {
   "cell_type": "code",
   "execution_count": 79,
   "id": "fe9c36b8",
   "metadata": {},
   "outputs": [
    {
     "ename": "TypeError",
     "evalue": "filter function returned a Series, but expected a scalar bool",
     "output_type": "error",
     "traceback": [
      "\u001b[1;31m---------------------------------------------------------------------------\u001b[0m",
      "\u001b[1;31mTypeError\u001b[0m                                 Traceback (most recent call last)",
      "\u001b[1;32m~\\AppData\\Local\\Temp\\ipykernel_48520\\2007985218.py\u001b[0m in \u001b[0;36m<module>\u001b[1;34m\u001b[0m\n\u001b[1;32m----> 1\u001b[1;33m \u001b[0mdf02\u001b[0m\u001b[1;33m=\u001b[0m \u001b[0mdf\u001b[0m\u001b[1;33m.\u001b[0m\u001b[0mgroupby\u001b[0m\u001b[1;33m(\u001b[0m\u001b[1;33m[\u001b[0m\u001b[1;34m\"policy_type\"\u001b[0m\u001b[1;33m,\u001b[0m \u001b[1;34m\"gender\"\u001b[0m\u001b[1;33m]\u001b[0m\u001b[1;33m)\u001b[0m\u001b[1;33m.\u001b[0m\u001b[0mfilter\u001b[0m\u001b[1;33m(\u001b[0m\u001b[1;32mlambda\u001b[0m \u001b[0mx\u001b[0m\u001b[1;33m:\u001b[0m \u001b[0mx\u001b[0m\u001b[1;33m[\u001b[0m\u001b[1;34m\"total_claim_amount\"\u001b[0m\u001b[1;33m]\u001b[0m\u001b[1;33m.\u001b[0m\u001b[0mmean\u001b[0m\u001b[1;33m(\u001b[0m\u001b[1;33m)\u001b[0m \u001b[1;32mand\u001b[0m \u001b[1;33m(\u001b[0m\u001b[0mx\u001b[0m\u001b[1;33m[\u001b[0m\u001b[1;34m'response'\u001b[0m\u001b[1;33m]\u001b[0m \u001b[1;33m==\u001b[0m \u001b[1;34m'yes'\u001b[0m\u001b[1;33m)\u001b[0m\u001b[1;33m)\u001b[0m\u001b[1;33m\u001b[0m\u001b[1;33m\u001b[0m\u001b[0m\n\u001b[0m",
      "\u001b[1;32m~\\anaconda3\\lib\\site-packages\\pandas\\core\\groupby\\generic.py\u001b[0m in \u001b[0;36mfilter\u001b[1;34m(self, func, dropna, *args, **kwargs)\u001b[0m\n\u001b[0;32m   1315\u001b[0m             \u001b[1;32melse\u001b[0m\u001b[1;33m:\u001b[0m\u001b[1;33m\u001b[0m\u001b[1;33m\u001b[0m\u001b[0m\n\u001b[0;32m   1316\u001b[0m                 \u001b[1;31m# non scalars aren't allowed\u001b[0m\u001b[1;33m\u001b[0m\u001b[1;33m\u001b[0m\u001b[0m\n\u001b[1;32m-> 1317\u001b[1;33m                 raise TypeError(\n\u001b[0m\u001b[0;32m   1318\u001b[0m                     \u001b[1;34mf\"filter function returned a {type(res).__name__}, \"\u001b[0m\u001b[1;33m\u001b[0m\u001b[1;33m\u001b[0m\u001b[0m\n\u001b[0;32m   1319\u001b[0m                     \u001b[1;34m\"but expected a scalar bool\"\u001b[0m\u001b[1;33m\u001b[0m\u001b[1;33m\u001b[0m\u001b[0m\n",
      "\u001b[1;31mTypeError\u001b[0m: filter function returned a Series, but expected a scalar bool"
     ]
    }
   ],
   "source": [
    "df02= df.groupby([\"policy_type\", \"gender\"]).filter(lambda x: x[\"total_claim_amount\"].mean() and (x['response'] == 'yes'))"
   ]
  },
  {
   "cell_type": "code",
   "execution_count": 44,
   "id": "add0e5b1",
   "metadata": {},
   "outputs": [],
   "source": [
    "filtered_df = df[df['response'] == 'Yes']\n",
    "result = filtered_df.groupby(['policy_type', 'gender'])['total_claim_amount'].mean()"
   ]
  },
  {
   "cell_type": "code",
   "execution_count": 45,
   "id": "b99ef446",
   "metadata": {},
   "outputs": [
    {
     "data": {
      "text/plain": [
       "Series([], Name: total_claim_amount, dtype: float64)"
      ]
     },
     "execution_count": 45,
     "metadata": {},
     "output_type": "execute_result"
    }
   ],
   "source": [
    "result"
   ]
  },
  {
   "cell_type": "code",
   "execution_count": 87,
   "id": "590359f2",
   "metadata": {},
   "outputs": [],
   "source": [
    "df_yes= df[df[\"response\"] == \"yes\"]\n"
   ]
  },
  {
   "cell_type": "code",
   "execution_count": 88,
   "id": "22e90d7b",
   "metadata": {},
   "outputs": [
    {
     "data": {
      "text/html": [
       "<div>\n",
       "<style scoped>\n",
       "    .dataframe tbody tr th:only-of-type {\n",
       "        vertical-align: middle;\n",
       "    }\n",
       "\n",
       "    .dataframe tbody tr th {\n",
       "        vertical-align: top;\n",
       "    }\n",
       "\n",
       "    .dataframe thead th {\n",
       "        text-align: right;\n",
       "    }\n",
       "</style>\n",
       "<table border=\"1\" class=\"dataframe\">\n",
       "  <thead>\n",
       "    <tr style=\"text-align: right;\">\n",
       "      <th></th>\n",
       "      <th>region</th>\n",
       "      <th>customer_lifetime_value</th>\n",
       "      <th>response</th>\n",
       "      <th>coverage</th>\n",
       "      <th>education</th>\n",
       "      <th>effective_to_date</th>\n",
       "      <th>month</th>\n",
       "      <th>employment_status</th>\n",
       "      <th>gender</th>\n",
       "      <th>income</th>\n",
       "      <th>...</th>\n",
       "      <th>months_since_policy_inception</th>\n",
       "      <th>number_of_open_complaints</th>\n",
       "      <th>number_of_policies</th>\n",
       "      <th>policy_type</th>\n",
       "      <th>policy</th>\n",
       "      <th>renew_offer_type</th>\n",
       "      <th>sales_channel</th>\n",
       "      <th>total_claim_amount</th>\n",
       "      <th>vehicle_class</th>\n",
       "      <th>vehicle_size</th>\n",
       "    </tr>\n",
       "  </thead>\n",
       "  <tbody>\n",
       "    <tr>\n",
       "      <th>3</th>\n",
       "      <td>north west</td>\n",
       "      <td>22332</td>\n",
       "      <td>yes</td>\n",
       "      <td>extended</td>\n",
       "      <td>college</td>\n",
       "      <td>1/11/11</td>\n",
       "      <td>jan</td>\n",
       "      <td>employed</td>\n",
       "      <td>m</td>\n",
       "      <td>49078</td>\n",
       "      <td>...</td>\n",
       "      <td>3</td>\n",
       "      <td>0</td>\n",
       "      <td>2</td>\n",
       "      <td>corporate auto</td>\n",
       "      <td>corporate l3</td>\n",
       "      <td>offer2</td>\n",
       "      <td>branch</td>\n",
       "      <td>484</td>\n",
       "      <td>four-door car</td>\n",
       "      <td>medsize</td>\n",
       "    </tr>\n",
       "    <tr>\n",
       "      <th>5</th>\n",
       "      <td>west region</td>\n",
       "      <td>4745</td>\n",
       "      <td>yes</td>\n",
       "      <td>basic</td>\n",
       "      <td>high school or below</td>\n",
       "      <td>2/14/11</td>\n",
       "      <td>feb</td>\n",
       "      <td>employed</td>\n",
       "      <td>m</td>\n",
       "      <td>50549</td>\n",
       "      <td>...</td>\n",
       "      <td>73</td>\n",
       "      <td>0</td>\n",
       "      <td>7</td>\n",
       "      <td>personal auto</td>\n",
       "      <td>personal l3</td>\n",
       "      <td>offer1</td>\n",
       "      <td>agent</td>\n",
       "      <td>292</td>\n",
       "      <td>four-door car</td>\n",
       "      <td>medsize</td>\n",
       "    </tr>\n",
       "    <tr>\n",
       "      <th>8</th>\n",
       "      <td>west region</td>\n",
       "      <td>5989</td>\n",
       "      <td>yes</td>\n",
       "      <td>premium</td>\n",
       "      <td>college</td>\n",
       "      <td>1/19/11</td>\n",
       "      <td>jan</td>\n",
       "      <td>employed</td>\n",
       "      <td>m</td>\n",
       "      <td>66839</td>\n",
       "      <td>...</td>\n",
       "      <td>24</td>\n",
       "      <td>0</td>\n",
       "      <td>1</td>\n",
       "      <td>personal auto</td>\n",
       "      <td>personal l1</td>\n",
       "      <td>offer2</td>\n",
       "      <td>branch</td>\n",
       "      <td>739</td>\n",
       "      <td>sports car</td>\n",
       "      <td>medsize</td>\n",
       "    </tr>\n",
       "    <tr>\n",
       "      <th>15</th>\n",
       "      <td>west region</td>\n",
       "      <td>4626</td>\n",
       "      <td>yes</td>\n",
       "      <td>basic</td>\n",
       "      <td>master</td>\n",
       "      <td>1/16/11</td>\n",
       "      <td>jan</td>\n",
       "      <td>employed</td>\n",
       "      <td>f</td>\n",
       "      <td>79487</td>\n",
       "      <td>...</td>\n",
       "      <td>87</td>\n",
       "      <td>0</td>\n",
       "      <td>1</td>\n",
       "      <td>special auto</td>\n",
       "      <td>special l1</td>\n",
       "      <td>offer2</td>\n",
       "      <td>branch</td>\n",
       "      <td>547</td>\n",
       "      <td>suv</td>\n",
       "      <td>medsize</td>\n",
       "    </tr>\n",
       "    <tr>\n",
       "      <th>19</th>\n",
       "      <td>west region</td>\n",
       "      <td>3746</td>\n",
       "      <td>yes</td>\n",
       "      <td>extended</td>\n",
       "      <td>college</td>\n",
       "      <td>2/26/11</td>\n",
       "      <td>feb</td>\n",
       "      <td>employed</td>\n",
       "      <td>f</td>\n",
       "      <td>41479</td>\n",
       "      <td>...</td>\n",
       "      <td>38</td>\n",
       "      <td>1</td>\n",
       "      <td>1</td>\n",
       "      <td>personal auto</td>\n",
       "      <td>personal l2</td>\n",
       "      <td>offer2</td>\n",
       "      <td>call center</td>\n",
       "      <td>19</td>\n",
       "      <td>two-door car</td>\n",
       "      <td>large</td>\n",
       "    </tr>\n",
       "    <tr>\n",
       "      <th>...</th>\n",
       "      <td>...</td>\n",
       "      <td>...</td>\n",
       "      <td>...</td>\n",
       "      <td>...</td>\n",
       "      <td>...</td>\n",
       "      <td>...</td>\n",
       "      <td>...</td>\n",
       "      <td>...</td>\n",
       "      <td>...</td>\n",
       "      <td>...</td>\n",
       "      <td>...</td>\n",
       "      <td>...</td>\n",
       "      <td>...</td>\n",
       "      <td>...</td>\n",
       "      <td>...</td>\n",
       "      <td>...</td>\n",
       "      <td>...</td>\n",
       "      <td>...</td>\n",
       "      <td>...</td>\n",
       "      <td>...</td>\n",
       "      <td>...</td>\n",
       "    </tr>\n",
       "    <tr>\n",
       "      <th>10624</th>\n",
       "      <td>central</td>\n",
       "      <td>5979</td>\n",
       "      <td>yes</td>\n",
       "      <td>extended</td>\n",
       "      <td>high school or below</td>\n",
       "      <td>2/7/11</td>\n",
       "      <td>feb</td>\n",
       "      <td>employed</td>\n",
       "      <td>f</td>\n",
       "      <td>57693</td>\n",
       "      <td>...</td>\n",
       "      <td>56</td>\n",
       "      <td>0</td>\n",
       "      <td>3</td>\n",
       "      <td>personal auto</td>\n",
       "      <td>personal l1</td>\n",
       "      <td>offer2</td>\n",
       "      <td>agent</td>\n",
       "      <td>547</td>\n",
       "      <td>four-door car</td>\n",
       "      <td>medsize</td>\n",
       "    </tr>\n",
       "    <tr>\n",
       "      <th>10629</th>\n",
       "      <td>east</td>\n",
       "      <td>5308</td>\n",
       "      <td>yes</td>\n",
       "      <td>extended</td>\n",
       "      <td>bachelor</td>\n",
       "      <td>1/24/11</td>\n",
       "      <td>jan</td>\n",
       "      <td>employed</td>\n",
       "      <td>m</td>\n",
       "      <td>40178</td>\n",
       "      <td>...</td>\n",
       "      <td>13</td>\n",
       "      <td>0</td>\n",
       "      <td>1</td>\n",
       "      <td>special auto</td>\n",
       "      <td>special l2</td>\n",
       "      <td>offer1</td>\n",
       "      <td>agent</td>\n",
       "      <td>652</td>\n",
       "      <td>suv</td>\n",
       "      <td>medsize</td>\n",
       "    </tr>\n",
       "    <tr>\n",
       "      <th>10632</th>\n",
       "      <td>east</td>\n",
       "      <td>8382</td>\n",
       "      <td>yes</td>\n",
       "      <td>basic</td>\n",
       "      <td>bachelor</td>\n",
       "      <td>1/27/11</td>\n",
       "      <td>jan</td>\n",
       "      <td>employed</td>\n",
       "      <td>m</td>\n",
       "      <td>25998</td>\n",
       "      <td>...</td>\n",
       "      <td>38</td>\n",
       "      <td>0</td>\n",
       "      <td>2</td>\n",
       "      <td>personal auto</td>\n",
       "      <td>personal l2</td>\n",
       "      <td>offer2</td>\n",
       "      <td>call center</td>\n",
       "      <td>791</td>\n",
       "      <td>four-door car</td>\n",
       "      <td>medsize</td>\n",
       "    </tr>\n",
       "    <tr>\n",
       "      <th>10652</th>\n",
       "      <td>west region</td>\n",
       "      <td>5979</td>\n",
       "      <td>yes</td>\n",
       "      <td>extended</td>\n",
       "      <td>high school or below</td>\n",
       "      <td>2/7/11</td>\n",
       "      <td>feb</td>\n",
       "      <td>employed</td>\n",
       "      <td>f</td>\n",
       "      <td>57693</td>\n",
       "      <td>...</td>\n",
       "      <td>56</td>\n",
       "      <td>0</td>\n",
       "      <td>3</td>\n",
       "      <td>personal auto</td>\n",
       "      <td>personal l3</td>\n",
       "      <td>offer2</td>\n",
       "      <td>agent</td>\n",
       "      <td>547</td>\n",
       "      <td>four-door car</td>\n",
       "      <td>medsize</td>\n",
       "    </tr>\n",
       "    <tr>\n",
       "      <th>10676</th>\n",
       "      <td>central</td>\n",
       "      <td>9075</td>\n",
       "      <td>yes</td>\n",
       "      <td>basic</td>\n",
       "      <td>master</td>\n",
       "      <td>1/26/11</td>\n",
       "      <td>jan</td>\n",
       "      <td>employed</td>\n",
       "      <td>m</td>\n",
       "      <td>37722</td>\n",
       "      <td>...</td>\n",
       "      <td>23</td>\n",
       "      <td>0</td>\n",
       "      <td>8</td>\n",
       "      <td>personal auto</td>\n",
       "      <td>personal l1</td>\n",
       "      <td>offer1</td>\n",
       "      <td>agent</td>\n",
       "      <td>158</td>\n",
       "      <td>sports car</td>\n",
       "      <td>medsize</td>\n",
       "    </tr>\n",
       "  </tbody>\n",
       "</table>\n",
       "<p>1373 rows × 24 columns</p>\n",
       "</div>"
      ],
      "text/plain": [
       "            region  customer_lifetime_value response  coverage  \\\n",
       "3       north west                    22332      yes  extended   \n",
       "5      west region                     4745      yes     basic   \n",
       "8      west region                     5989      yes   premium   \n",
       "15     west region                     4626      yes     basic   \n",
       "19     west region                     3746      yes  extended   \n",
       "...            ...                      ...      ...       ...   \n",
       "10624      central                     5979      yes  extended   \n",
       "10629         east                     5308      yes  extended   \n",
       "10632         east                     8382      yes     basic   \n",
       "10652  west region                     5979      yes  extended   \n",
       "10676      central                     9075      yes     basic   \n",
       "\n",
       "                  education effective_to_date month employment_status gender  \\\n",
       "3                   college           1/11/11   jan          employed      m   \n",
       "5      high school or below           2/14/11   feb          employed      m   \n",
       "8                   college           1/19/11   jan          employed      m   \n",
       "15                   master           1/16/11   jan          employed      f   \n",
       "19                  college           2/26/11   feb          employed      f   \n",
       "...                     ...               ...   ...               ...    ...   \n",
       "10624  high school or below            2/7/11   feb          employed      f   \n",
       "10629              bachelor           1/24/11   jan          employed      m   \n",
       "10632              bachelor           1/27/11   jan          employed      m   \n",
       "10652  high school or below            2/7/11   feb          employed      f   \n",
       "10676                master           1/26/11   jan          employed      m   \n",
       "\n",
       "       income  ... months_since_policy_inception number_of_open_complaints  \\\n",
       "3       49078  ...                             3                         0   \n",
       "5       50549  ...                            73                         0   \n",
       "8       66839  ...                            24                         0   \n",
       "15      79487  ...                            87                         0   \n",
       "19      41479  ...                            38                         1   \n",
       "...       ...  ...                           ...                       ...   \n",
       "10624   57693  ...                            56                         0   \n",
       "10629   40178  ...                            13                         0   \n",
       "10632   25998  ...                            38                         0   \n",
       "10652   57693  ...                            56                         0   \n",
       "10676   37722  ...                            23                         0   \n",
       "\n",
       "       number_of_policies     policy_type        policy  renew_offer_type  \\\n",
       "3                       2  corporate auto  corporate l3            offer2   \n",
       "5                       7   personal auto   personal l3            offer1   \n",
       "8                       1   personal auto   personal l1            offer2   \n",
       "15                      1    special auto    special l1            offer2   \n",
       "19                      1   personal auto   personal l2            offer2   \n",
       "...                   ...             ...           ...               ...   \n",
       "10624                   3   personal auto   personal l1            offer2   \n",
       "10629                   1    special auto    special l2            offer1   \n",
       "10632                   2   personal auto   personal l2            offer2   \n",
       "10652                   3   personal auto   personal l3            offer2   \n",
       "10676                   8   personal auto   personal l1            offer1   \n",
       "\n",
       "       sales_channel total_claim_amount  vehicle_class vehicle_size  \n",
       "3             branch                484  four-door car      medsize  \n",
       "5              agent                292  four-door car      medsize  \n",
       "8             branch                739     sports car      medsize  \n",
       "15            branch                547            suv      medsize  \n",
       "19       call center                 19   two-door car        large  \n",
       "...              ...                ...            ...          ...  \n",
       "10624          agent                547  four-door car      medsize  \n",
       "10629          agent                652            suv      medsize  \n",
       "10632    call center                791  four-door car      medsize  \n",
       "10652          agent                547  four-door car      medsize  \n",
       "10676          agent                158     sports car      medsize  \n",
       "\n",
       "[1373 rows x 24 columns]"
      ]
     },
     "execution_count": 88,
     "metadata": {},
     "output_type": "execute_result"
    }
   ],
   "source": [
    "df_yes"
   ]
  },
  {
   "cell_type": "code",
   "execution_count": 91,
   "id": "3e7a78a0",
   "metadata": {},
   "outputs": [],
   "source": [
    "result02 = df_yes.groupby(['policy_type','gender'])[['total_claim_amount']].mean()"
   ]
  },
  {
   "cell_type": "code",
   "execution_count": 92,
   "id": "6181fafa",
   "metadata": {},
   "outputs": [
    {
     "data": {
      "text/html": [
       "<div>\n",
       "<style scoped>\n",
       "    .dataframe tbody tr th:only-of-type {\n",
       "        vertical-align: middle;\n",
       "    }\n",
       "\n",
       "    .dataframe tbody tr th {\n",
       "        vertical-align: top;\n",
       "    }\n",
       "\n",
       "    .dataframe thead th {\n",
       "        text-align: right;\n",
       "    }\n",
       "</style>\n",
       "<table border=\"1\" class=\"dataframe\">\n",
       "  <thead>\n",
       "    <tr style=\"text-align: right;\">\n",
       "      <th></th>\n",
       "      <th></th>\n",
       "      <th>total_claim_amount</th>\n",
       "    </tr>\n",
       "    <tr>\n",
       "      <th>policy_type</th>\n",
       "      <th>gender</th>\n",
       "      <th></th>\n",
       "    </tr>\n",
       "  </thead>\n",
       "  <tbody>\n",
       "    <tr>\n",
       "      <th rowspan=\"2\" valign=\"top\">corporate auto</th>\n",
       "      <th>f</th>\n",
       "      <td>434.286585</td>\n",
       "    </tr>\n",
       "    <tr>\n",
       "      <th>m</th>\n",
       "      <td>418.993590</td>\n",
       "    </tr>\n",
       "    <tr>\n",
       "      <th rowspan=\"2\" valign=\"top\">personal auto</th>\n",
       "      <th>f</th>\n",
       "      <td>449.888889</td>\n",
       "    </tr>\n",
       "    <tr>\n",
       "      <th>m</th>\n",
       "      <td>457.582988</td>\n",
       "    </tr>\n",
       "    <tr>\n",
       "      <th rowspan=\"2\" valign=\"top\">special auto</th>\n",
       "      <th>f</th>\n",
       "      <td>450.647059</td>\n",
       "    </tr>\n",
       "    <tr>\n",
       "      <th>m</th>\n",
       "      <td>435.878788</td>\n",
       "    </tr>\n",
       "  </tbody>\n",
       "</table>\n",
       "</div>"
      ],
      "text/plain": [
       "                       total_claim_amount\n",
       "policy_type    gender                    \n",
       "corporate auto f               434.286585\n",
       "               m               418.993590\n",
       "personal auto  f               449.888889\n",
       "               m               457.582988\n",
       "special auto   f               450.647059\n",
       "               m               435.878788"
      ]
     },
     "execution_count": 92,
     "metadata": {},
     "output_type": "execute_result"
    }
   ],
   "source": [
    "result02"
   ]
  },
  {
   "cell_type": "code",
   "execution_count": 51,
   "id": "ad665c71",
   "metadata": {},
   "outputs": [],
   "source": [
    "\n",
    "result02 = df.groupby(['policy_type','gender'])['total_claim_amount'].mean()\n",
    "\n"
   ]
  },
  {
   "cell_type": "code",
   "execution_count": 52,
   "id": "ebfbc098",
   "metadata": {},
   "outputs": [
    {
     "data": {
      "text/plain": [
       "policy_type     gender\n",
       "corporate auto  f         398.035073\n",
       "                m         463.157480\n",
       "personal auto   f         412.155304\n",
       "                m         459.095767\n",
       "special auto    f         457.375527\n",
       "                m         419.906404\n",
       "Name: total_claim_amount, dtype: float64"
      ]
     },
     "execution_count": 52,
     "metadata": {},
     "output_type": "execute_result"
    }
   ],
   "source": [
    "result02"
   ]
  },
  {
   "cell_type": "code",
   "execution_count": 82,
   "id": "beb63d58",
   "metadata": {
    "scrolled": true
   },
   "outputs": [
    {
     "name": "stderr",
     "output_type": "stream",
     "text": [
      "<>:1: SyntaxWarning: list indices must be integers or slices, not str; perhaps you missed a comma?\n",
      "<>:1: SyntaxWarning: list indices must be integers or slices, not str; perhaps you missed a comma?\n",
      "C:\\Users\\espan\\AppData\\Local\\Temp\\ipykernel_48520\\3719245108.py:1: SyntaxWarning: list indices must be integers or slices, not str; perhaps you missed a comma?\n",
      "  result02 = df.groupby((['policy_type','gender'])['total_claim_amount'].mean()).filter(lambda x: x['response'] == \"yes\")\n"
     ]
    },
    {
     "ename": "TypeError",
     "evalue": "list indices must be integers or slices, not str",
     "output_type": "error",
     "traceback": [
      "\u001b[1;31m---------------------------------------------------------------------------\u001b[0m",
      "\u001b[1;31mTypeError\u001b[0m                                 Traceback (most recent call last)",
      "\u001b[1;32m~\\AppData\\Local\\Temp\\ipykernel_48520\\3719245108.py\u001b[0m in \u001b[0;36m<module>\u001b[1;34m\u001b[0m\n\u001b[1;32m----> 1\u001b[1;33m \u001b[0mresult02\u001b[0m \u001b[1;33m=\u001b[0m \u001b[0mdf\u001b[0m\u001b[1;33m.\u001b[0m\u001b[0mgroupby\u001b[0m\u001b[1;33m(\u001b[0m\u001b[1;33m(\u001b[0m\u001b[1;33m[\u001b[0m\u001b[1;34m'policy_type'\u001b[0m\u001b[1;33m,\u001b[0m\u001b[1;34m'gender'\u001b[0m\u001b[1;33m]\u001b[0m\u001b[1;33m)\u001b[0m\u001b[1;33m[\u001b[0m\u001b[1;34m'total_claim_amount'\u001b[0m\u001b[1;33m]\u001b[0m\u001b[1;33m.\u001b[0m\u001b[0mmean\u001b[0m\u001b[1;33m(\u001b[0m\u001b[1;33m)\u001b[0m\u001b[1;33m)\u001b[0m\u001b[1;33m.\u001b[0m\u001b[0mfilter\u001b[0m\u001b[1;33m(\u001b[0m\u001b[1;32mlambda\u001b[0m \u001b[0mx\u001b[0m\u001b[1;33m:\u001b[0m \u001b[0mx\u001b[0m\u001b[1;33m[\u001b[0m\u001b[1;34m'response'\u001b[0m\u001b[1;33m]\u001b[0m \u001b[1;33m==\u001b[0m \u001b[1;34m\"yes\"\u001b[0m\u001b[1;33m)\u001b[0m\u001b[1;33m\u001b[0m\u001b[1;33m\u001b[0m\u001b[0m\n\u001b[0m",
      "\u001b[1;31mTypeError\u001b[0m: list indices must be integers or slices, not str"
     ]
    }
   ],
   "source": [
    " result02 = df.groupby((['policy_type','gender'])['total_claim_amount'].mean()).filter(lambda x: x['response'] == \"yes\")"
   ]
  },
  {
   "cell_type": "code",
   "execution_count": 85,
   "id": "70e73a2c",
   "metadata": {},
   "outputs": [
    {
     "name": "stderr",
     "output_type": "stream",
     "text": [
      "<>:1: SyntaxWarning: list indices must be integers or slices, not str; perhaps you missed a comma?\n",
      "<>:1: SyntaxWarning: list indices must be integers or slices, not str; perhaps you missed a comma?\n",
      "C:\\Users\\espan\\AppData\\Local\\Temp\\ipykernel_48520\\3655548527.py:1: SyntaxWarning: list indices must be integers or slices, not str; perhaps you missed a comma?\n",
      "  result02 = df.groupby((['policy_type','gender'])['total_claim_amount'].mean()).apply(lambda x: x['response'] == \"yes\")\n"
     ]
    },
    {
     "ename": "TypeError",
     "evalue": "list indices must be integers or slices, not str",
     "output_type": "error",
     "traceback": [
      "\u001b[1;31m---------------------------------------------------------------------------\u001b[0m",
      "\u001b[1;31mTypeError\u001b[0m                                 Traceback (most recent call last)",
      "\u001b[1;32m~\\AppData\\Local\\Temp\\ipykernel_48520\\3655548527.py\u001b[0m in \u001b[0;36m<module>\u001b[1;34m\u001b[0m\n\u001b[1;32m----> 1\u001b[1;33m \u001b[0mresult02\u001b[0m \u001b[1;33m=\u001b[0m \u001b[0mdf\u001b[0m\u001b[1;33m.\u001b[0m\u001b[0mgroupby\u001b[0m\u001b[1;33m(\u001b[0m\u001b[1;33m(\u001b[0m\u001b[1;33m[\u001b[0m\u001b[1;34m'policy_type'\u001b[0m\u001b[1;33m,\u001b[0m\u001b[1;34m'gender'\u001b[0m\u001b[1;33m]\u001b[0m\u001b[1;33m)\u001b[0m\u001b[1;33m[\u001b[0m\u001b[1;34m'total_claim_amount'\u001b[0m\u001b[1;33m]\u001b[0m\u001b[1;33m.\u001b[0m\u001b[0mmean\u001b[0m\u001b[1;33m(\u001b[0m\u001b[1;33m)\u001b[0m\u001b[1;33m)\u001b[0m\u001b[1;33m.\u001b[0m\u001b[0mapply\u001b[0m\u001b[1;33m(\u001b[0m\u001b[1;32mlambda\u001b[0m \u001b[0mx\u001b[0m\u001b[1;33m:\u001b[0m \u001b[0mx\u001b[0m\u001b[1;33m[\u001b[0m\u001b[1;34m'response'\u001b[0m\u001b[1;33m]\u001b[0m \u001b[1;33m==\u001b[0m \u001b[1;34m\"yes\"\u001b[0m\u001b[1;33m)\u001b[0m\u001b[1;33m\u001b[0m\u001b[1;33m\u001b[0m\u001b[0m\n\u001b[0m",
      "\u001b[1;31mTypeError\u001b[0m: list indices must be integers or slices, not str"
     ]
    }
   ],
   "source": [
    " result02 = df.groupby((['policy_type','gender'])['total_claim_amount'].mean()).apply(lambda x: x['response'] == \"yes\")"
   ]
  },
  {
   "cell_type": "code",
   "execution_count": 54,
   "id": "9d3cd8e7",
   "metadata": {},
   "outputs": [
    {
     "name": "stderr",
     "output_type": "stream",
     "text": [
      "<>:1: SyntaxWarning: list indices must be integers or slices, not str; perhaps you missed a comma?\n",
      "<>:1: SyntaxWarning: list indices must be integers or slices, not str; perhaps you missed a comma?\n",
      "C:\\Users\\espan\\AppData\\Local\\Temp\\ipykernel_48520\\2495207.py:1: SyntaxWarning: list indices must be integers or slices, not str; perhaps you missed a comma?\n",
      "  result02 = df.groupby((['policy_type','gender'])['total_claim_amount'].mean() & df['policy_type','gender']['response'] == \"yes\")\n"
     ]
    },
    {
     "ename": "TypeError",
     "evalue": "list indices must be integers or slices, not str",
     "output_type": "error",
     "traceback": [
      "\u001b[1;31m---------------------------------------------------------------------------\u001b[0m",
      "\u001b[1;31mTypeError\u001b[0m                                 Traceback (most recent call last)",
      "\u001b[1;32m~\\AppData\\Local\\Temp\\ipykernel_48520\\2495207.py\u001b[0m in \u001b[0;36m<module>\u001b[1;34m\u001b[0m\n\u001b[1;32m----> 1\u001b[1;33m \u001b[0mresult02\u001b[0m \u001b[1;33m=\u001b[0m \u001b[0mdf\u001b[0m\u001b[1;33m.\u001b[0m\u001b[0mgroupby\u001b[0m\u001b[1;33m(\u001b[0m\u001b[1;33m(\u001b[0m\u001b[1;33m[\u001b[0m\u001b[1;34m'policy_type'\u001b[0m\u001b[1;33m,\u001b[0m\u001b[1;34m'gender'\u001b[0m\u001b[1;33m]\u001b[0m\u001b[1;33m)\u001b[0m\u001b[1;33m[\u001b[0m\u001b[1;34m'total_claim_amount'\u001b[0m\u001b[1;33m]\u001b[0m\u001b[1;33m.\u001b[0m\u001b[0mmean\u001b[0m\u001b[1;33m(\u001b[0m\u001b[1;33m)\u001b[0m \u001b[1;33m&\u001b[0m \u001b[0mdf\u001b[0m\u001b[1;33m[\u001b[0m\u001b[1;34m'policy_type'\u001b[0m\u001b[1;33m,\u001b[0m\u001b[1;34m'gender'\u001b[0m\u001b[1;33m]\u001b[0m\u001b[1;33m[\u001b[0m\u001b[1;34m'response'\u001b[0m\u001b[1;33m]\u001b[0m \u001b[1;33m==\u001b[0m \u001b[1;34m\"yes\"\u001b[0m\u001b[1;33m)\u001b[0m\u001b[1;33m\u001b[0m\u001b[1;33m\u001b[0m\u001b[0m\n\u001b[0m",
      "\u001b[1;31mTypeError\u001b[0m: list indices must be integers or slices, not str"
     ]
    }
   ],
   "source": [
    "result02 = df.groupby((['policy_type','gender'])['total_claim_amount'].mean() & df['policy_type','gender']['response'] == \"yes\")"
   ]
  },
  {
   "cell_type": "code",
   "execution_count": 55,
   "id": "f06cc87d",
   "metadata": {},
   "outputs": [],
   "source": [
    "result03 = df[df['response'] == 'Yes'].groupby(['policy_type', 'gender']).agg({'total_claim_amount': 'mean'})"
   ]
  },
  {
   "cell_type": "code",
   "execution_count": 56,
   "id": "e0031337",
   "metadata": {},
   "outputs": [
    {
     "data": {
      "text/html": [
       "<div>\n",
       "<style scoped>\n",
       "    .dataframe tbody tr th:only-of-type {\n",
       "        vertical-align: middle;\n",
       "    }\n",
       "\n",
       "    .dataframe tbody tr th {\n",
       "        vertical-align: top;\n",
       "    }\n",
       "\n",
       "    .dataframe thead th {\n",
       "        text-align: right;\n",
       "    }\n",
       "</style>\n",
       "<table border=\"1\" class=\"dataframe\">\n",
       "  <thead>\n",
       "    <tr style=\"text-align: right;\">\n",
       "      <th></th>\n",
       "      <th></th>\n",
       "      <th>total_claim_amount</th>\n",
       "    </tr>\n",
       "    <tr>\n",
       "      <th>policy_type</th>\n",
       "      <th>gender</th>\n",
       "      <th></th>\n",
       "    </tr>\n",
       "  </thead>\n",
       "  <tbody>\n",
       "  </tbody>\n",
       "</table>\n",
       "</div>"
      ],
      "text/plain": [
       "Empty DataFrame\n",
       "Columns: [total_claim_amount]\n",
       "Index: []"
      ]
     },
     "execution_count": 56,
     "metadata": {},
     "output_type": "execute_result"
    }
   ],
   "source": [
    "result03"
   ]
  },
  {
   "cell_type": "code",
   "execution_count": 57,
   "id": "6fab878e",
   "metadata": {},
   "outputs": [],
   "source": [
    "result = df.groupby(['policy_type', 'gender']).filter(lambda x: (x['response'] == 'Yes').any()).groupby(['policy_type', 'gender']).agg({'total_claim_amount': 'mean'})"
   ]
  },
  {
   "cell_type": "code",
   "execution_count": 58,
   "id": "1585ac03",
   "metadata": {},
   "outputs": [
    {
     "data": {
      "text/html": [
       "<div>\n",
       "<style scoped>\n",
       "    .dataframe tbody tr th:only-of-type {\n",
       "        vertical-align: middle;\n",
       "    }\n",
       "\n",
       "    .dataframe tbody tr th {\n",
       "        vertical-align: top;\n",
       "    }\n",
       "\n",
       "    .dataframe thead th {\n",
       "        text-align: right;\n",
       "    }\n",
       "</style>\n",
       "<table border=\"1\" class=\"dataframe\">\n",
       "  <thead>\n",
       "    <tr style=\"text-align: right;\">\n",
       "      <th></th>\n",
       "      <th></th>\n",
       "      <th>total_claim_amount</th>\n",
       "    </tr>\n",
       "    <tr>\n",
       "      <th>policy_type</th>\n",
       "      <th>gender</th>\n",
       "      <th></th>\n",
       "    </tr>\n",
       "  </thead>\n",
       "  <tbody>\n",
       "  </tbody>\n",
       "</table>\n",
       "</div>"
      ],
      "text/plain": [
       "Empty DataFrame\n",
       "Columns: [total_claim_amount]\n",
       "Index: []"
      ]
     },
     "execution_count": 58,
     "metadata": {},
     "output_type": "execute_result"
    }
   ],
   "source": [
    "result"
   ]
  },
  {
   "cell_type": "code",
   "execution_count": 59,
   "id": "c6986280",
   "metadata": {},
   "outputs": [],
   "source": [
    "result02 = df.groupby(['policy_type','gender'])['total_claim_amount'].mean()"
   ]
  },
  {
   "cell_type": "code",
   "execution_count": 60,
   "id": "4686ef47",
   "metadata": {},
   "outputs": [
    {
     "data": {
      "text/plain": [
       "policy_type     gender\n",
       "corporate auto  f         398.035073\n",
       "                m         463.157480\n",
       "personal auto   f         412.155304\n",
       "                m         459.095767\n",
       "special auto    f         457.375527\n",
       "                m         419.906404\n",
       "Name: total_claim_amount, dtype: float64"
      ]
     },
     "execution_count": 60,
     "metadata": {},
     "output_type": "execute_result"
    }
   ],
   "source": [
    "result02"
   ]
  },
  {
   "cell_type": "code",
   "execution_count": 63,
   "id": "dc53325b",
   "metadata": {},
   "outputs": [
    {
     "ename": "SyntaxError",
     "evalue": "unexpected EOF while parsing (3575290814.py, line 1)",
     "output_type": "error",
     "traceback": [
      "\u001b[1;36m  File \u001b[1;32m\"C:\\Users\\espan\\AppData\\Local\\Temp\\ipykernel_48520\\3575290814.py\"\u001b[1;36m, line \u001b[1;32m1\u001b[0m\n\u001b[1;33m    result03 = df.groupby(['policy_type','gender']).filter(lambda x: (x['response'] == 'Yes')\u001b[0m\n\u001b[1;37m                                                                                             ^\u001b[0m\n\u001b[1;31mSyntaxError\u001b[0m\u001b[1;31m:\u001b[0m unexpected EOF while parsing\n"
     ]
    }
   ],
   "source": [
    "result03 = df.groupby(['policy_type','gender']).filter(lambda x: (x['response'] == 'Yes')"
   ]
  },
  {
   "cell_type": "code",
   "execution_count": 64,
   "id": "c0c045a5",
   "metadata": {},
   "outputs": [
    {
     "ename": "SyntaxError",
     "evalue": "unexpected EOF while parsing (224929330.py, line 1)",
     "output_type": "error",
     "traceback": [
      "\u001b[1;36m  File \u001b[1;32m\"C:\\Users\\espan\\AppData\\Local\\Temp\\ipykernel_48520\\224929330.py\"\u001b[1;36m, line \u001b[1;32m1\u001b[0m\n\u001b[1;33m    result04 = df.groupby(['policy_type','gender'])['total_claim_amount'].mean() & df.groupby(['policy_type','gender']).filter(lambda x: (x['response'] == 'Yes')\u001b[0m\n\u001b[1;37m                                                                                                                                                                 ^\u001b[0m\n\u001b[1;31mSyntaxError\u001b[0m\u001b[1;31m:\u001b[0m unexpected EOF while parsing\n"
     ]
    }
   ],
   "source": [
    "result04 = df.groupby(['policy_type','gender'])['total_claim_amount'].mean() & df.groupby(['policy_type','gender']).filter(lambda x: (x['response'] == 'Yes')"
   ]
  },
  {
   "cell_type": "markdown",
   "id": "6c3d2fe9",
   "metadata": {},
   "source": [
    "3. Analyze the total number of customers who have policies in each state, and then filter the results to only include states where there are more than 500 customers."
   ]
  },
  {
   "cell_type": "code",
   "execution_count": 84,
   "id": "e66fe5bb",
   "metadata": {},
   "outputs": [],
   "source": [
    "df_cleaned = pd.read_csv(\"https://raw.githubusercontent.com/data-bootcamp-v4/data/main/marketing_customer_analysis.csv\")"
   ]
  },
  {
   "cell_type": "code",
   "execution_count": null,
   "id": "d04df1c7",
   "metadata": {},
   "outputs": [],
   "source": [
    "df_claned"
   ]
  },
  {
   "cell_type": "code",
   "execution_count": 71,
   "id": "fd638538",
   "metadata": {},
   "outputs": [],
   "source": [
    "result03=  df.groupby(['policy_type','region'])['total_claim_amount'].mean()"
   ]
  },
  {
   "cell_type": "code",
   "execution_count": 72,
   "id": "9df4628a",
   "metadata": {},
   "outputs": [
    {
     "data": {
      "text/plain": [
       "policy_type     region     \n",
       "corporate auto  central        429.819315\n",
       "                east           421.845745\n",
       "                north west     432.838400\n",
       "                west region    430.474912\n",
       "personal auto   central        428.053502\n",
       "                east           443.674221\n",
       "                north west     430.792520\n",
       "                west region    442.380864\n",
       "special auto    central        441.207692\n",
       "                east           410.800000\n",
       "                north west     468.678571\n",
       "                west region    416.955556\n",
       "Name: total_claim_amount, dtype: float64"
      ]
     },
     "execution_count": 72,
     "metadata": {},
     "output_type": "execute_result"
    }
   ],
   "source": [
    "result03"
   ]
  },
  {
   "cell_type": "code",
   "execution_count": 73,
   "id": "3409e16b",
   "metadata": {},
   "outputs": [],
   "source": [
    "result03=  df.groupby(['policy_type','region'])['total_claim_amount'].mean().loc[lambda x: x > 500]"
   ]
  },
  {
   "cell_type": "code",
   "execution_count": 74,
   "id": "522a36f0",
   "metadata": {},
   "outputs": [
    {
     "data": {
      "text/plain": [
       "Series([], Name: total_claim_amount, dtype: float64)"
      ]
     },
     "execution_count": 74,
     "metadata": {},
     "output_type": "execute_result"
    }
   ],
   "source": [
    "result03"
   ]
  },
  {
   "cell_type": "code",
   "execution_count": null,
   "id": "b48990b9",
   "metadata": {},
   "outputs": [],
   "source": []
  }
 ],
 "metadata": {
  "kernelspec": {
   "display_name": "Python 3 (ipykernel)",
   "language": "python",
   "name": "python3"
  },
  "language_info": {
   "codemirror_mode": {
    "name": "ipython",
    "version": 3
   },
   "file_extension": ".py",
   "mimetype": "text/x-python",
   "name": "python",
   "nbconvert_exporter": "python",
   "pygments_lexer": "ipython3",
   "version": "3.9.13"
  }
 },
 "nbformat": 4,
 "nbformat_minor": 5
}
