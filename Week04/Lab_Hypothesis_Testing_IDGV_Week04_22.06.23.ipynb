{
 "cells": [
  {
   "cell_type": "markdown",
   "id": "ba7d414c",
   "metadata": {},
   "source": [
    " ### Hypothesis Testing"
   ]
  },
  {
   "cell_type": "code",
   "execution_count": 25,
   "id": "18797910",
   "metadata": {},
   "outputs": [],
   "source": [
    "import numpy as np\n",
    "import pandas as pd\n",
    "import scipy.stats as stats\n",
    "import matplotlib.pyplot as plt\n",
    "import seaborn as sns\n",
    "\n",
    "%matplotlib inline\n"
   ]
  },
  {
   "cell_type": "markdown",
   "id": "dc5d9e1a",
   "metadata": {},
   "source": [
    "### Is the group significantly different (with respect to systolic blood pressure!) from the regular population?\n",
    "\n",
    "\n",
    "- H0: bp_sample = 120 mm Hg\n",
    "- H1: bp_sample != 120 mm Hg"
   ]
  },
  {
   "cell_type": "code",
   "execution_count": 12,
   "id": "667936d8",
   "metadata": {},
   "outputs": [],
   "source": [
    "#sample size\n",
    "n=100\n",
    "\n",
    "#avg systolic blood pressure of population mean:\n",
    "\n",
    "bp_population = 130.1\n",
    "\n",
    "#avg systolic blood pressure of sample mean:\n",
    "bp_sample  = 120\n",
    "\n",
    "#standar desviation of the sample\n",
    "std_dev = 21.21"
   ]
  },
  {
   "cell_type": "code",
   "execution_count": 13,
   "id": "2f76502c",
   "metadata": {},
   "outputs": [
    {
     "name": "stdout",
     "output_type": "stream",
     "text": [
      "Our z score is: 4.76\n"
     ]
    }
   ],
   "source": [
    "z = ( bp_population - bp_sample ) / ( std_dev/ np.sqrt(n) )\n",
    "print(\"Our z score is: {:.2f}\".format(z))"
   ]
  },
  {
   "cell_type": "code",
   "execution_count": 14,
   "id": "960f2b08",
   "metadata": {},
   "outputs": [
    {
     "name": "stdout",
     "output_type": "stream",
     "text": [
      "Our z score is: -4.76\n"
     ]
    }
   ],
   "source": [
    "z = ( bp_sample - bp_population) / ( std_dev/ np.sqrt(n) )\n",
    "print(\"Our z score is: {:.2f}\".format(z))"
   ]
  },
  {
   "cell_type": "code",
   "execution_count": 15,
   "id": "c510a86d",
   "metadata": {},
   "outputs": [],
   "source": [
    "#Setting the confidence level = 95%\n",
    "cl = 0.95\n",
    "#Zc(critical value for 95% confidence level)\n",
    "#We have to use t-student becauese qe dont have population std dev"
   ]
  },
  {
   "cell_type": "markdown",
   "id": "b347011f",
   "metadata": {},
   "source": [
    "### Lets calculate the Critical value\n",
    "\n",
    "We can calculate it using t-distribution baceuse we **DONT KNOW** the standar desviation of the population!\n",
    "\n",
    "**The statistical test type is two tailed test**\n"
   ]
  },
  {
   "cell_type": "code",
   "execution_count": 33,
   "id": "ae7fc00c",
   "metadata": {},
   "outputs": [],
   "source": [
    "zc =stats.t.ppf(1-(0.05/2),df=n)\n",
    "\n",
    "#print(\"Our zc score is: {:.2f}\".format(zc))\n"
   ]
  },
  {
   "cell_type": "code",
   "execution_count": 34,
   "id": "74c789ab",
   "metadata": {},
   "outputs": [
    {
     "data": {
      "text/plain": [
       "1.9839715184496334"
      ]
     },
     "execution_count": 34,
     "metadata": {},
     "output_type": "execute_result"
    }
   ],
   "source": [
    "zc"
   ]
  },
  {
   "cell_type": "code",
   "execution_count": 37,
   "id": "756c1536",
   "metadata": {},
   "outputs": [],
   "source": [
    "p_value = stats.t.sf(np.abs(zc), df=n-1) * 2b"
   ]
  },
  {
   "cell_type": "code",
   "execution_count": 38,
   "id": "8b647b90",
   "metadata": {},
   "outputs": [
    {
     "data": {
      "text/plain": [
       "0.05002779963052667"
      ]
     },
     "execution_count": 38,
     "metadata": {},
     "output_type": "execute_result"
    }
   ],
   "source": [
    "p_value"
   ]
  },
  {
   "cell_type": "markdown",
   "id": "7e8d905f",
   "metadata": {},
   "source": [
    "z = 4.76 >= zc = 1.984  We decide to accept the null hypothesis the mean systolic blood pressure is μ = 120 mm Hg"
   ]
  },
  {
   "cell_type": "markdown",
   "id": "a3cad4f6",
   "metadata": {},
   "source": [
    "*Other option*"
   ]
  },
  {
   "cell_type": "code",
   "execution_count": 31,
   "id": "c4aec335",
   "metadata": {},
   "outputs": [],
   "source": [
    "alpha= 0.05\n",
    "df=100\n",
    "zc = np.abs(np.random.standard_t(df, size=10000))\n",
    "zc = np.percentile(tc, (1 - (alpha / 2)) * 100)"
   ]
  },
  {
   "cell_type": "code",
   "execution_count": 32,
   "id": "3c3e2231",
   "metadata": {},
   "outputs": [
    {
     "data": {
      "text/plain": [
       "2.26992157591641"
      ]
     },
     "execution_count": 32,
     "metadata": {},
     "output_type": "execute_result"
    }
   ],
   "source": [
    "zc"
   ]
  },
  {
   "cell_type": "code",
   "execution_count": null,
   "id": "eee54efb",
   "metadata": {},
   "outputs": [],
   "source": []
  }
 ],
 "metadata": {
  "kernelspec": {
   "display_name": "Python 3 (ipykernel)",
   "language": "python",
   "name": "python3"
  },
  "language_info": {
   "codemirror_mode": {
    "name": "ipython",
    "version": 3
   },
   "file_extension": ".py",
   "mimetype": "text/x-python",
   "name": "python",
   "nbconvert_exporter": "python",
   "pygments_lexer": "ipython3",
   "version": "3.9.13"
  }
 },
 "nbformat": 4,
 "nbformat_minor": 5
}
