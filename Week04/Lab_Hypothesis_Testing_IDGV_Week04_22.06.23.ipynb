{
 "cells": [
  {
   "cell_type": "markdown",
   "id": "6adc1dca",
   "metadata": {},
   "source": [
    " ### Hypothesis Testing"
   ]
  },
  {
   "cell_type": "code",
   "execution_count": 25,
   "id": "74836520",
   "metadata": {},
   "outputs": [],
   "source": [
    "import numpy as np\n",
    "import pandas as pd\n",
    "import scipy.stats as stats\n",
    "import matplotlib.pyplot as plt\n",
    "import seaborn as sns\n",
    "\n",
    "%matplotlib inline\n"
   ]
  },
  {
   "cell_type": "markdown",
   "id": "98db6f18",
   "metadata": {},
   "source": [
    "### Is the group significantly different (with respect to systolic blood pressure!) from the regular population?\n",
    "\n",
    "\n",
    "- H0: bp_sample = 120 mm Hg\n",
    "- H1: bp_sample != 120 mm Hg"
   ]
  },
  {
   "cell_type": "code",
   "execution_count": 12,
   "id": "95423757",
   "metadata": {},
   "outputs": [],
   "source": [
    "#sample size\n",
    "n=100\n",
    "\n",
    "#avg systolic blood pressure of population mean:\n",
    "\n",
    "bp_population = 130.1\n",
    "\n",
    "#avg systolic blood pressure of sample mean:\n",
    "bp_sample  = 120\n",
    "\n",
    "#standar desviation of the sample\n",
    "std_dev = 21.21"
   ]
  },
  {
   "cell_type": "markdown",
   "id": "75a26dcf",
   "metadata": {},
   "source": [
    "### Calculating  t score"
   ]
  },
  {
   "cell_type": "code",
   "execution_count": 13,
   "id": "5591405b",
   "metadata": {},
   "outputs": [
    {
     "name": "stdout",
     "output_type": "stream",
     "text": [
      "Our z score is: 4.76\n"
     ]
    }
   ],
   "source": [
    "z = ( bp_population - bp_sample ) / ( std_dev/ np.sqrt(n) )\n",
    "print(\"Our z score is: {:.2f}\".format(z))"
   ]
  },
  {
   "cell_type": "code",
   "execution_count": 14,
   "id": "98f2da53",
   "metadata": {},
   "outputs": [
    {
     "name": "stdout",
     "output_type": "stream",
     "text": [
      "Our z score is: -4.76\n"
     ]
    }
   ],
   "source": [
    "z = ( bp_sample - bp_population) / ( std_dev/ np.sqrt(n) )\n",
    "print(\"Our z score is: {:.2f}\".format(z))"
   ]
  },
  {
   "cell_type": "code",
   "execution_count": 15,
   "id": "6a7ced18",
   "metadata": {},
   "outputs": [],
   "source": [
    "#Setting the confidence level = 95%\n",
    "cl = 0.95\n",
    "#Zc(critical value for 95% confidence level)\n",
    "#We have to use t-student becauese qe dont have population std dev"
   ]
  },
  {
   "cell_type": "markdown",
   "id": "59da2156",
   "metadata": {},
   "source": [
    "### Lets calculate the Critical value\n",
    "\n",
    "We can calculate it using t-distribution baceuse we **DONT KNOW** the standar desviation of the population!\n",
    "\n",
    "**The statistical test type is two tailed test**\n"
   ]
  },
  {
   "cell_type": "code",
   "execution_count": 33,
   "id": "3094f9f8",
   "metadata": {},
   "outputs": [],
   "source": [
    "zc =stats.t.ppf(1-(0.05/2),df=n)\n",
    "\n",
    "#print(\"Our zc score is: {:.2f}\".format(zc))\n"
   ]
  },
  {
   "cell_type": "code",
   "execution_count": 34,
   "id": "d5d524d7",
   "metadata": {},
   "outputs": [
    {
     "data": {
      "text/plain": [
       "1.9839715184496334"
      ]
     },
     "execution_count": 34,
     "metadata": {},
     "output_type": "execute_result"
    }
   ],
   "source": [
    "zc"
   ]
  },
  {
   "cell_type": "code",
   "execution_count": 37,
   "id": "123ee7ae",
   "metadata": {},
   "outputs": [],
   "source": [
    "p_value = stats.t.sf(np.abs(zc), df=n-1) * 2b"
   ]
  },
  {
   "cell_type": "code",
   "execution_count": 38,
   "id": "ffb91546",
   "metadata": {},
   "outputs": [
    {
     "data": {
      "text/plain": [
       "0.05002779963052667"
      ]
     },
     "execution_count": 38,
     "metadata": {},
     "output_type": "execute_result"
    }
   ],
   "source": [
    "p_value"
   ]
  },
  {
   "cell_type": "markdown",
   "id": "f756a480",
   "metadata": {},
   "source": [
    "z = 4.76 >= zc = 1.984  The null hypothesis is accepted.  The mean systolic blood pressure is μ = 120 mm Hg"
   ]
  },
  {
   "cell_type": "markdown",
   "id": "f49b60b5",
   "metadata": {},
   "source": [
    "*Other option*"
   ]
  },
  {
   "cell_type": "code",
   "execution_count": 31,
   "id": "20ed2735",
   "metadata": {},
   "outputs": [],
   "source": [
    "alpha= 0.05\n",
    "df=100\n",
    "zc = np.abs(np.random.standard_t(df, size=10000))\n",
    "zc = np.percentile(tc, (1 - (alpha / 2)) * 100)"
   ]
  },
  {
   "cell_type": "code",
   "execution_count": 32,
   "id": "28a8bf5d",
   "metadata": {},
   "outputs": [
    {
     "data": {
      "text/plain": [
       "2.26992157591641"
      ]
     },
     "execution_count": 32,
     "metadata": {},
     "output_type": "execute_result"
    }
   ],
   "source": [
    "zc"
   ]
  },
  {
   "cell_type": "code",
   "execution_count": null,
   "id": "90fa4106",
   "metadata": {},
   "outputs": [],
   "source": []
  }
 ],
 "metadata": {
  "kernelspec": {
   "display_name": "Python 3 (ipykernel)",
   "language": "python",
   "name": "python3"
  },
  "language_info": {
   "codemirror_mode": {
    "name": "ipython",
    "version": 3
   },
   "file_extension": ".py",
   "mimetype": "text/x-python",
   "name": "python",
   "nbconvert_exporter": "python",
   "pygments_lexer": "ipython3",
   "version": "3.9.13"
  }
 },
 "nbformat": 4,
 "nbformat_minor": 5
}
