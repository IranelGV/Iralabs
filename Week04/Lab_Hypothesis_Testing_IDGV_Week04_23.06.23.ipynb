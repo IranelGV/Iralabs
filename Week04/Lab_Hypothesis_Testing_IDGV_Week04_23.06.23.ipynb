{
 "cells": [
  {
   "cell_type": "markdown",
   "id": "92fceab8",
   "metadata": {},
   "source": [
    "### Hipothesis Testing\n",
    "\n",
    "**Optional**\n",
    "In a packing plant, a machine packs cartons with jars. It is supposed that a new machine will pack faster on the average than the machine currently used. To test that hypothesis, the times it takes each machine to pack ten cartons are recorded. The results, in seconds, are shown in the tables in the file Data/machine.txt. Assume that there is sufficient evidence to conduct the t test, does the data provide sufficient evidence to show if one machine is better than the other.\n",
    "Hint: use two sample t-test\n",
    "\n",
    "t= (sample_mean(x1) - sample_mean(x2)) / sqrt(square(s1)/n1 + square(s2)/n2 )"
   ]
  },
  {
   "cell_type": "code",
   "execution_count": 1,
   "id": "17c5f3db",
   "metadata": {},
   "outputs": [],
   "source": [
    "import numpy as np\n",
    "import pandas as pd\n",
    "import scipy.stats as stats\n",
    "import matplotlib.pyplot as plt\n",
    "import seaborn as sns\n",
    "\n",
    "%matplotlib inline"
   ]
  },
  {
   "cell_type": "markdown",
   "id": "91a3a763",
   "metadata": {},
   "source": [
    "## Defining our hypothesis"
   ]
  },
  {
   "cell_type": "markdown",
   "id": "5e17b17e",
   "metadata": {},
   "source": [
    "Ho: New_Machine = Old_Machine \n",
    "Ha: New_Machine != Old_Machine\n",
    "\n",
    "(Two-tailed test)"
   ]
  },
  {
   "cell_type": "code",
   "execution_count": 2,
   "id": "7d9620c2",
   "metadata": {},
   "outputs": [],
   "source": [
    "New_Machine = [42.1,41,41.3,41.8,42.4,42.8,43.2,42.3,41.8,42.7]\n",
    "Old_Machine = [42.7,43.6,43.8,43.3,42.5,43.5,43.1,41.7,44,44.1]"
   ]
  },
  {
   "cell_type": "markdown",
   "id": "bab08fd5",
   "metadata": {},
   "source": [
    "# Let's calculate avg "
   ]
  },
  {
   "cell_type": "code",
   "execution_count": 3,
   "id": "dabc1fd1",
   "metadata": {},
   "outputs": [],
   "source": [
    "mean_new = np.average(New_Machine)\n",
    "mean_old = np.average(Old_Machine)"
   ]
  },
  {
   "cell_type": "markdown",
   "id": "5fa42e7b",
   "metadata": {},
   "source": [
    "# Let's calculate standar desviation"
   ]
  },
  {
   "cell_type": "code",
   "execution_count": 4,
   "id": "6fd416b7",
   "metadata": {},
   "outputs": [],
   "source": [
    "std_dev_new = np.std(New_Machine)\n",
    "std_dev_old = np.std(Old_Machine)"
   ]
  },
  {
   "cell_type": "markdown",
   "id": "e7abdfe2",
   "metadata": {},
   "source": [
    "# Our variables:"
   ]
  },
  {
   "cell_type": "code",
   "execution_count": 5,
   "id": "ca989af9",
   "metadata": {},
   "outputs": [
    {
     "name": "stdout",
     "output_type": "stream",
     "text": [
      "Mean of New Machine = 42.14\n",
      "Mean of Old Machine = 43.230000000000004\n",
      "Standard Deviation of New Machine = 0.6483826030978941\n",
      "Standard Deviation of Old Machine = 0.7114070564732956\n"
     ]
    }
   ],
   "source": [
    "print(\"Mean of New Machine =\",mean_new)\n",
    "print(\"Mean of Old Machine =\",mean_old)\n",
    "print(\"Standard Deviation of New Machine =\",std_dev_new)\n",
    "print(\"Standard Deviation of Old Machine =\",std_dev_old)"
   ]
  },
  {
   "cell_type": "markdown",
   "id": "c27bc6c5",
   "metadata": {},
   "source": [
    "# Let's calculate critical value zc"
   ]
  },
  {
   "cell_type": "code",
   "execution_count": 6,
   "id": "a2a1291a",
   "metadata": {},
   "outputs": [
    {
     "name": "stdout",
     "output_type": "stream",
     "text": [
      "The critical value is = 2.10092204024096\n"
     ]
    }
   ],
   "source": [
    "tc = stats.t.ppf(0.975, df=18)\n",
    "print(\"The critical value is =\",tc)"
   ]
  },
  {
   "cell_type": "markdown",
   "id": "f9b41800",
   "metadata": {},
   "source": [
    "# Lets calculate the z value"
   ]
  },
  {
   "cell_type": "code",
   "execution_count": 7,
   "id": "e7fc233e",
   "metadata": {},
   "outputs": [
    {
     "name": "stdout",
     "output_type": "stream",
     "text": [
      "t-score = 3.5809955894645813\n"
     ]
    }
   ],
   "source": [
    "n1 = 10\n",
    "n2 = 10\n",
    "t_score = (mean_old - mean_new) / np.sqrt(np.square(std_dev_old)/n1 + np.square(std_dev_new)/n2 )\n",
    "print(\"t-score =\",t_score)"
   ]
  },
  {
   "cell_type": "markdown",
   "id": "42f4df12",
   "metadata": {},
   "source": [
    "**Since t-score > t-critical, the null hypothesis is rejected.**"
   ]
  },
  {
   "cell_type": "code",
   "execution_count": 8,
   "id": "4c1a5d6e",
   "metadata": {},
   "outputs": [
    {
     "ename": "SyntaxError",
     "evalue": "invalid syntax (541862769.py, line 1)",
     "output_type": "error",
     "traceback": [
      "\u001b[1;36m  File \u001b[1;32m\"C:\\Users\\espan\\AppData\\Local\\Temp\\ipykernel_33152\\541862769.py\"\u001b[1;36m, line \u001b[1;32m1\u001b[0m\n\u001b[1;33m    p_value = stats.t.sf(np.abs(zc), df=n-1) * 2b\u001b[0m\n\u001b[1;37m                                                ^\u001b[0m\n\u001b[1;31mSyntaxError\u001b[0m\u001b[1;31m:\u001b[0m invalid syntax\n"
     ]
    }
   ],
   "source": [
    "p_value = stats.t.sf(np.abs(zc), df=n-1) * 2b"
   ]
  },
  {
   "cell_type": "code",
   "execution_count": null,
   "id": "a00a9393",
   "metadata": {},
   "outputs": [],
   "source": [
    "alpha = 0.05\n",
    "power ="
   ]
  }
 ],
 "metadata": {
  "kernelspec": {
   "display_name": "Python 3 (ipykernel)",
   "language": "python",
   "name": "python3"
  },
  "language_info": {
   "codemirror_mode": {
    "name": "ipython",
    "version": 3
   },
   "file_extension": ".py",
   "mimetype": "text/x-python",
   "name": "python",
   "nbconvert_exporter": "python",
   "pygments_lexer": "ipython3",
   "version": "3.9.13"
  }
 },
 "nbformat": 4,
 "nbformat_minor": 5
}
