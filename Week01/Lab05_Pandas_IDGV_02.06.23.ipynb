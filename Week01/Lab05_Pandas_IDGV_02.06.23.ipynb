{
 "cells": [
  {
   "cell_type": "markdown",
   "id": "25d7736c-ba17-4aff-b6bb-66eba20fbf4e",
   "metadata": {},
   "source": [
    "# Lab | Pandas"
   ]
  },
  {
   "cell_type": "markdown",
   "id": "34ae7c66-9458-477c-8a31-c6b07a36bf66",
   "metadata": {},
   "source": [
    "Objective: practice how to use the pandas library in Python for data analysis and manipulation."
   ]
  },
  {
   "cell_type": "markdown",
   "id": "d1973e9e-8be6-4039-b70e-d73ee0d94c99",
   "metadata": {},
   "source": [
    "In this lab, we will be working with the customer data from an insurance company, which can be found in the CSV file located at the following link: https://raw.githubusercontent.com/data-bootcamp-v4/data/main/file1.csv\n",
    "\n",
    "The data includes information such as customer ID, state, gender, education, income, and other variables that can be used to perform various analyses.\n",
    "\n",
    "Throughout the lab, we will be using the pandas library in Python to manipulate and analyze the data. Pandas is a powerful library that provides various data manipulation and analysis tools, including the ability to load and manipulate data from a variety of sources, including CSV files."
   ]
  },
  {
   "cell_type": "markdown",
   "id": "8045146f-f4f7-44d9-8cd9-130d6400c73a",
   "metadata": {},
   "source": [
    "### Data Description\n",
    "\n",
    "- Customer - Customer ID\n",
    "\n",
    "- ST - State where customers live\n",
    "\n",
    "- Gender - Gender of the customer\n",
    "\n",
    "- Education - Background education of customers \n",
    "\n",
    "- Customer Lifetime Value - Customer lifetime value(CLV) is the total revenue the client will derive from their entire relationship with a customer. In other words, is the predicted or calculated value of a customer over their entire duration as a policyholder with the insurance company. It is an estimation of the net profit that the insurance company expects to generate from a customer throughout their relationship with the company. Customer Lifetime Value takes into account factors such as the duration of the customer's policy, premium payments, claim history, renewal likelihood, and potential additional services or products the customer may purchase. It helps insurers assess the long-term profitability and value associated with retaining a particular customer.\n",
    "\n",
    "- Income - Customers income\n",
    "\n",
    "- Monthly Premium Auto - Amount of money the customer pays on a monthly basis as a premium for their auto insurance coverage. It represents the recurring cost that the insured person must pay to maintain their insurance policy and receive coverage for potential damages, accidents, or other covered events related to their vehicle.\n",
    "\n",
    "- Number of Open Complaints - Number of complaints the customer opened\n",
    "\n",
    "- Policy Type - There are three type of policies in car insurance (Corporate Auto, Personal Auto, and Special Auto)\n",
    "\n",
    "- Vehicle Class - Type of vehicle classes that customers have Two-Door Car, Four-Door Car SUV, Luxury SUV, Sports Car, and Luxury Car\n",
    "\n",
    "- Total Claim Amount - the sum of all claims made by the customer. It represents the total monetary value of all approved claims for incidents such as accidents, theft, vandalism, or other covered events.\n"
   ]
  },
  {
   "cell_type": "markdown",
   "id": "3a72419b-20fc-4905-817a-8c83abc59de6",
   "metadata": {},
   "source": [
    "External Resources: https://towardsdatascience.com/filtering-data-frames-in-pandas-b570b1f834b9"
   ]
  },
  {
   "cell_type": "markdown",
   "id": "8f8ece17-e919-4e23-96c0-c7c59778436a",
   "metadata": {},
   "source": [
    "## Challenge 1: Understanding the data\n",
    "\n",
    "In this challenge, you will use pandas to explore a given dataset. Your task is to gain a deep understanding of the data by analyzing its characteristics, dimensions, and statistical properties."
   ]
  },
  {
   "cell_type": "markdown",
   "id": "91437bd5-59a6-49c0-8150-ef0e6e6eb253",
   "metadata": {},
   "source": [
    "- Identify the dimensions of the dataset by determining the number of rows and columns it contains.\n",
    "- Determine the data types of each column and evaluate whether they are appropriate for the nature of the variable. You should also provide suggestions for fixing any incorrect data types.\n",
    "- Identify the number of unique values for each column and determine which columns appear to be categorical. You should also describe the unique values of each categorical column and the range of values for numerical columns, and give your insights.\n",
    "- Compute summary statistics such as mean, median, mode, standard deviation, and quartiles to understand the central tendency and distribution of the data for numerical columns. You should also provide your conclusions based on these summary statistics.\n",
    "- Compute summary statistics for categorical columns and providing your conclusions based on these statistics."
   ]
  },
  {
   "cell_type": "code",
   "execution_count": 46,
   "id": "dd4e8cd8-a6f6-486c-a5c4-1745b0c035f4",
   "metadata": {},
   "outputs": [],
   "source": [
    "# Your code here\n",
    "#Identify the dimensions of the dataset by determining the number of rows and columns it contains.\n",
    "\n",
    "%matplotlib inline\n",
    "import numpy as np\n",
    "import pandas as pd\n",
    "from IPython.display import Image\n",
    "from IPython.display import HTML\n",
    "from IPython.display import Markdown, display\n",
    "def printmd(string):\n",
    "    display(Markdown(string))\n"
   ]
  },
  {
   "cell_type": "code",
   "execution_count": 62,
   "id": "1b01043f",
   "metadata": {
    "scrolled": true
   },
   "outputs": [
    {
     "name": "stdout",
     "output_type": "stream",
     "text": [
      "  Customer          ST GENDER             Education Customer Lifetime Value  \\\n",
      "0  RB50392  Washington    NaN                Master                     NaN   \n",
      "1  QZ44356     Arizona      F              Bachelor              697953.59%   \n",
      "2  AI49188      Nevada      F              Bachelor             1288743.17%   \n",
      "3  WW63253  California      M              Bachelor              764586.18%   \n",
      "4  GA49547  Washington      M  High School or Below              536307.65%   \n",
      "\n",
      "    Income  Monthly Premium Auto Number of Open Complaints     Policy Type  \\\n",
      "0      0.0                1000.0                    1/0/00   Personal Auto   \n",
      "1      0.0                  94.0                    1/0/00   Personal Auto   \n",
      "2  48767.0                 108.0                    1/0/00   Personal Auto   \n",
      "3      0.0                 106.0                    1/0/00  Corporate Auto   \n",
      "4  36357.0                  68.0                    1/0/00   Personal Auto   \n",
      "\n",
      "   Vehicle Class  Total Claim Amount  \n",
      "0  Four-Door Car            2.704934  \n",
      "1  Four-Door Car         1131.464935  \n",
      "2   Two-Door Car          566.472247  \n",
      "3            SUV          529.881344  \n",
      "4  Four-Door Car           17.269323  \n",
      "     Customer          ST GENDER             Education  \\\n",
      "0     RB50392  Washington    NaN                Master   \n",
      "1     QZ44356     Arizona      F              Bachelor   \n",
      "2     AI49188      Nevada      F              Bachelor   \n",
      "3     WW63253  California      M              Bachelor   \n",
      "4     GA49547  Washington      M  High School or Below   \n",
      "...       ...         ...    ...                   ...   \n",
      "4003      NaN         NaN    NaN                   NaN   \n",
      "4004      NaN         NaN    NaN                   NaN   \n",
      "4005      NaN         NaN    NaN                   NaN   \n",
      "4006      NaN         NaN    NaN                   NaN   \n",
      "4007      NaN         NaN    NaN                   NaN   \n",
      "\n",
      "     Customer Lifetime Value   Income  Monthly Premium Auto  \\\n",
      "0                        NaN      0.0                1000.0   \n",
      "1                 697953.59%      0.0                  94.0   \n",
      "2                1288743.17%  48767.0                 108.0   \n",
      "3                 764586.18%      0.0                 106.0   \n",
      "4                 536307.65%  36357.0                  68.0   \n",
      "...                      ...      ...                   ...   \n",
      "4003                     NaN      NaN                   NaN   \n",
      "4004                     NaN      NaN                   NaN   \n",
      "4005                     NaN      NaN                   NaN   \n",
      "4006                     NaN      NaN                   NaN   \n",
      "4007                     NaN      NaN                   NaN   \n",
      "\n",
      "     Number of Open Complaints     Policy Type  Vehicle Class  \\\n",
      "0                       1/0/00   Personal Auto  Four-Door Car   \n",
      "1                       1/0/00   Personal Auto  Four-Door Car   \n",
      "2                       1/0/00   Personal Auto   Two-Door Car   \n",
      "3                       1/0/00  Corporate Auto            SUV   \n",
      "4                       1/0/00   Personal Auto  Four-Door Car   \n",
      "...                        ...             ...            ...   \n",
      "4003                       NaN             NaN            NaN   \n",
      "4004                       NaN             NaN            NaN   \n",
      "4005                       NaN             NaN            NaN   \n",
      "4006                       NaN             NaN            NaN   \n",
      "4007                       NaN             NaN            NaN   \n",
      "\n",
      "      Total Claim Amount  \n",
      "0               2.704934  \n",
      "1            1131.464935  \n",
      "2             566.472247  \n",
      "3             529.881344  \n",
      "4              17.269323  \n",
      "...                  ...  \n",
      "4003                 NaN  \n",
      "4004                 NaN  \n",
      "4005                 NaN  \n",
      "4006                 NaN  \n",
      "4007                 NaN  \n",
      "\n",
      "[4008 rows x 11 columns]\n"
     ]
    }
   ],
   "source": [
    "df= pd.read_csv(\"file1.csv\")\n",
    "\n",
    "first_data = df.head()\n",
    "\n",
    "print(first_data)\n",
    "print(df)\n",
    "\n",
    "#df.Info()\n",
    "#df.count())\n",
    "#df.describe())\n",
    "#df.mean())\n",
    "#data_df.dtypes()"
   ]
  },
  {
   "cell_type": "code",
   "execution_count": 48,
   "id": "6469ec3b",
   "metadata": {},
   "outputs": [
    {
     "name": "stdout",
     "output_type": "stream",
     "text": [
      "the number of rows: 11\n",
      "the number of columns: 4008\n"
     ]
    }
   ],
   "source": [
    "#1.Identify the dimensions of the dataset by determining the number of rows and columns it contains.\n",
    "\n",
    "n_columns = df.shape[1]\n",
    "n_rows = df.shape[0]\n",
    "print(\"the number of rows:\", n_columns)\n",
    "print(\"the number of columns:\", n_rows)\n",
    "\n",
    "#[]\n",
    "\n",
    "#dtypes"
   ]
  },
  {
   "cell_type": "code",
   "execution_count": 59,
   "id": "581d0681",
   "metadata": {},
   "outputs": [
    {
     "name": "stdout",
     "output_type": "stream",
     "text": [
      "<class 'pandas.core.frame.DataFrame'>\n",
      "RangeIndex: 4008 entries, 0 to 4007\n",
      "Data columns (total 11 columns):\n",
      " #   Column                     Non-Null Count  Dtype  \n",
      "---  ------                     --------------  -----  \n",
      " 0   Customer                   1071 non-null   object \n",
      " 1   ST                         1071 non-null   object \n",
      " 2   GENDER                     954 non-null    object \n",
      " 3   Education                  1071 non-null   object \n",
      " 4   Customer Lifetime Value    1068 non-null   object \n",
      " 5   Income                     1071 non-null   float64\n",
      " 6   Monthly Premium Auto       1071 non-null   float64\n",
      " 7   Number of Open Complaints  1071 non-null   object \n",
      " 8   Policy Type                1071 non-null   object \n",
      " 9   Vehicle Class              1071 non-null   object \n",
      " 10  Total Claim Amount         1071 non-null   float64\n",
      "dtypes: float64(3), object(8)\n",
      "memory usage: 344.6+ KB\n"
     ]
    }
   ],
   "source": [
    "df.info()"
   ]
  },
  {
   "cell_type": "code",
   "execution_count": 65,
   "id": "545961c9",
   "metadata": {
    "scrolled": true
   },
   "outputs": [],
   "source": [
    "#2.Determine the data types of each column and evaluate whether they are appropriate for \n",
    "#the nature of the variable. You should also provide suggestions for fixing any \n",
    "#incorrect data types.\n",
    "\n",
    "df['Customer Lifetime Value'] = df['Customer Lifetime Value'].str.replace(\"%\",\" \")\n",
    "df['Customer Lifetime Value'] = df['Customer Lifetime Value'].astype(dtype =\"float64\")\n",
    "\n",
    "\n",
    "\n"
   ]
  },
  {
   "cell_type": "code",
   "execution_count": 66,
   "id": "02cdaee2",
   "metadata": {
    "scrolled": true
   },
   "outputs": [
    {
     "name": "stdout",
     "output_type": "stream",
     "text": [
      "<class 'pandas.core.frame.DataFrame'>\n",
      "RangeIndex: 4008 entries, 0 to 4007\n",
      "Data columns (total 11 columns):\n",
      " #   Column                     Non-Null Count  Dtype  \n",
      "---  ------                     --------------  -----  \n",
      " 0   Customer                   1071 non-null   object \n",
      " 1   ST                         1071 non-null   object \n",
      " 2   GENDER                     954 non-null    object \n",
      " 3   Education                  1071 non-null   object \n",
      " 4   Customer Lifetime Value    1068 non-null   float64\n",
      " 5   Income                     1071 non-null   float64\n",
      " 6   Monthly Premium Auto       1071 non-null   float64\n",
      " 7   Number of Open Complaints  1071 non-null   object \n",
      " 8   Policy Type                1071 non-null   object \n",
      " 9   Vehicle Class              1071 non-null   object \n",
      " 10  Total Claim Amount         1071 non-null   float64\n",
      "dtypes: float64(4), object(7)\n",
      "memory usage: 344.6+ KB\n"
     ]
    }
   ],
   "source": [
    "df.info()"
   ]
  },
  {
   "cell_type": "code",
   "execution_count": 43,
   "id": "9fa399f9",
   "metadata": {},
   "outputs": [],
   "source": [
    "#Identify the number of unique values for each column and \n",
    "#determine which columns appear to be categorical. \n",
    "\n",
    "#You should also  describe the unique values of each categorical column and \n",
    "#the range of values for numerical columns, and give your insight\n",
    "\n"
   ]
  },
  {
   "cell_type": "code",
   "execution_count": 24,
   "id": "4710262d",
   "metadata": {},
   "outputs": [
    {
     "name": "stdout",
     "output_type": "stream",
     "text": [
      "Unique values for Customer: 1071\n"
     ]
    }
   ],
   "source": [
    "#Unique Values\n",
    "Customer_unique = df['Customer'].nunique()\n",
    "print(\"Unique values for Customer:\",Customer_unique)\n",
    "\n",
    "#Categorical Variable\n",
    "df['Customer']=pd.Categorical(df['Customer'])\n"
   ]
  },
  {
   "cell_type": "code",
   "execution_count": 25,
   "id": "098e8ccb",
   "metadata": {},
   "outputs": [
    {
     "name": "stdout",
     "output_type": "stream",
     "text": [
      "Unique values for ST: 8\n"
     ]
    }
   ],
   "source": [
    "#Unique Values\n",
    "ST_unique = df['ST'].nunique()\n",
    "print(\"Unique values for ST:\",ST_unique)\n",
    "\n",
    "#Categorical Variable\n",
    "df['ST']=pd.Categorical(df['ST'])\n",
    "\n"
   ]
  },
  {
   "cell_type": "code",
   "execution_count": 36,
   "id": "bf4d5c3e",
   "metadata": {},
   "outputs": [
    {
     "name": "stdout",
     "output_type": "stream",
     "text": [
      "Unique values for GENDER: 5\n"
     ]
    }
   ],
   "source": [
    "#Unique Values\n",
    "\n",
    "GENDER_unique = df['GENDER'].nunique()\n",
    "print(\"Unique values for GENDER:\",GENDER_unique)\n",
    "\n",
    "\n",
    "#Categorical Variable\n",
    "data_df['GENDER']=pd.Categorical(df['GENDER'])\n",
    "\n"
   ]
  },
  {
   "cell_type": "code",
   "execution_count": 35,
   "id": "31c28dc2",
   "metadata": {},
   "outputs": [
    {
     "name": "stdout",
     "output_type": "stream",
     "text": [
      "Unique values for Education: 6\n"
     ]
    }
   ],
   "source": [
    "#Unique Values\n",
    "\n",
    "Education_unique = df['Education'].nunique()\n",
    "print(\"Unique values for Education:\",Education_unique)\n",
    "\n",
    "#Categorical Variable\n",
    "df['Education']=pd.Categorical(df['Education'])\n",
    "\n"
   ]
  },
  {
   "cell_type": "code",
   "execution_count": 34,
   "id": "bbd592fb",
   "metadata": {},
   "outputs": [
    {
     "name": "stdout",
     "output_type": "stream",
     "text": [
      "Unique values for Customer: 1027\n"
     ]
    }
   ],
   "source": [
    "#Unique Values\n",
    "Customer_Lifetime_Value_unique = df['Customer Lifetime Value'].nunique()\n",
    "print(\"Unique values for Customer:\",Customer_Lifetime_Value_unique)\n",
    "\n",
    "#Categorical Variable\n",
    "\n",
    "df['Customer Lifetime Value']=pd.Categorical(df['Customer Lifetime Value'])\n",
    "\n"
   ]
  },
  {
   "cell_type": "code",
   "execution_count": 33,
   "id": "fadbd0d0",
   "metadata": {},
   "outputs": [
    {
     "name": "stdout",
     "output_type": "stream",
     "text": [
      "Unique values for Income: 774\n"
     ]
    }
   ],
   "source": [
    "#Unique Values\n",
    "\n",
    "Income_unique =df['Income'].nunique()\n",
    "print(\"Unique values for Income:\",Income_unique)\n",
    "\n",
    "#Categorical Variable\n",
    "\n",
    "df['Income']=pd.Categorical(df['Income'])\n",
    "\n",
    "\n"
   ]
  },
  {
   "cell_type": "code",
   "execution_count": 32,
   "id": "82fde817",
   "metadata": {
    "scrolled": true
   },
   "outputs": [
    {
     "name": "stdout",
     "output_type": "stream",
     "text": [
      "Monthly Premium Auto: 132\n"
     ]
    }
   ],
   "source": [
    "#Unique Values\n",
    "\n",
    "Monthly_Premium_Auto_unique= df['Monthly Premium Auto'].nunique()\n",
    "print(\"Monthly Premium Auto:\",Monthly_Premium_Auto_unique)\n",
    "\n",
    "\n",
    "#Categorical Variable\n",
    "df['Monthly Premium Auto']=pd.Categorical(df['Monthly Premium Auto'])\n"
   ]
  },
  {
   "cell_type": "code",
   "execution_count": 39,
   "id": "0ca16520",
   "metadata": {},
   "outputs": [
    {
     "name": "stdout",
     "output_type": "stream",
     "text": [
      "Number of Open Complaints: 6\n"
     ]
    }
   ],
   "source": [
    "#Unique Values\n",
    "\n",
    "Number_of_Open_Complaints_unique = df[\"Number of Open Complaints\"].nunique()\n",
    "                                      \n",
    "print(\"Number of Open Complaints:\",Number_of_Open_Complaints_unique)\n",
    "\n",
    "                                      \n",
    "#Categorical Variable\n",
    "df['Number of Open Complaints']=pd.Categorical(df['Number of Open Complaints'])\n",
    "\n"
   ]
  },
  {
   "cell_type": "code",
   "execution_count": 40,
   "id": "40ba6385",
   "metadata": {},
   "outputs": [
    {
     "name": "stdout",
     "output_type": "stream",
     "text": [
      "Policy Type: 3\n"
     ]
    }
   ],
   "source": [
    "#Unique Values\n",
    "\n",
    "Policy_Type_unique=df['Policy Type'].nunique()\n",
    "print(\"Policy Type:\",Policy_Type_unique)\n",
    "\n",
    "\n",
    "#Categorical Variable\n",
    "data_df['Policy Type']=pd.Categorical(df['Policy Type'])"
   ]
  },
  {
   "cell_type": "code",
   "execution_count": 41,
   "id": "de8d5732",
   "metadata": {},
   "outputs": [
    {
     "name": "stdout",
     "output_type": "stream",
     "text": [
      "Vehicle Class: 3\n"
     ]
    }
   ],
   "source": [
    "#Unique Values\n",
    "\n",
    "Vehicle_Class_unique=data_df['Vehicle Class'].nunique()\n",
    "print(\"Vehicle Class:\",Policy_Type_unique)\n",
    "\n",
    "#Categorical Variable\n",
    "data_df['Vehicle Class']=pd.Categorical(df['Vehicle Class'])"
   ]
  },
  {
   "cell_type": "code",
   "execution_count": 42,
   "id": "838d78b2",
   "metadata": {},
   "outputs": [
    {
     "name": "stdout",
     "output_type": "stream",
     "text": [
      "Total Claim Amount: 3\n"
     ]
    }
   ],
   "source": [
    "#Unique Values\n",
    "\n",
    "Total_Claim_Amount_unique=data_df['Total Claim Amount'].nunique()\n",
    "print(\"Total Claim Amount:\",Policy_Type_unique)\n",
    "\n",
    "#Categorical Variable\n",
    "data_df['Total Claim Amount']=pd.Categorical(df['Total Claim Amount'])\n"
   ]
  },
  {
   "cell_type": "code",
   "execution_count": 56,
   "id": "8d38c744",
   "metadata": {},
   "outputs": [
    {
     "name": "stdout",
     "output_type": "stream",
     "text": [
      "count           1068\n",
      "unique          1027\n",
      "top       445811.34%\n",
      "freq               4\n",
      "Name: Customer Lifetime Value, dtype: object\n",
      "count     1071.000000\n",
      "mean     39295.701214\n",
      "std      30469.427060\n",
      "min          0.000000\n",
      "25%      14072.000000\n",
      "50%      36234.000000\n",
      "75%      64631.000000\n",
      "max      99960.000000\n",
      "Name: Income, dtype: float64\n",
      "count     1071.000000\n",
      "mean       193.234360\n",
      "std       1601.190369\n",
      "min         61.000000\n",
      "25%         68.000000\n",
      "50%         83.000000\n",
      "75%        109.500000\n",
      "max      35354.000000\n",
      "Name: Monthly Premium Auto, dtype: float64\n",
      "count    1071.000000\n",
      "mean      404.986909\n",
      "std       293.027260\n",
      "min         0.382107\n",
      "25%       202.157702\n",
      "50%       354.729129\n",
      "75%       532.800000\n",
      "max      2893.239678\n",
      "Name: Total Claim Amount, dtype: float64\n"
     ]
    }
   ],
   "source": [
    "#Compute summary statistics such as mean, median, mode, \n",
    "#tandard deviation, and quartiles to understand the central \n",
    "#tendency and distribution of the data for numerical columns. You should also provide\n",
    "#your conclusions based on these summary statistics\n",
    "\n",
    "\n",
    "\n",
    "Customer_Life_stats = df['Customer Lifetime Value'].describe()\n",
    "print(Customer_Life_stats)\n",
    "\n",
    "Income_stats = df['Income'].describe()\n",
    "print(Income_stats)\n",
    "\n",
    "Monthly_Premium_stats = df['Monthly Premium Auto'].describe()\n",
    "print(Monthly_Premium_stats)\n",
    "\n",
    "Total_Amount_stats = df['Total Claim Amount'].describe()\n",
    "print(Total_Amount_stats)\n"
   ]
  },
  {
   "cell_type": "code",
   "execution_count": null,
   "id": "3b84287b",
   "metadata": {},
   "outputs": [],
   "source": [
    "#Compute summary statistics for categorical columns and \n",
    "#providing your conclusions based on these statistics."
   ]
  },
  {
   "cell_type": "code",
   "execution_count": 67,
   "id": "d9812329",
   "metadata": {},
   "outputs": [
    {
     "name": "stdout",
     "output_type": "stream",
     "text": [
      "RB50392    1\n",
      "HJ15383    1\n",
      "AO74776    1\n",
      "HQ82233    1\n",
      "OL72737    1\n",
      "          ..\n",
      "RO26085    1\n",
      "ES57969    1\n",
      "JK55587    1\n",
      "RN97635    1\n",
      "MY31220    1\n",
      "Name: Customer, Length: 1071, dtype: int64\n",
      "Oregon        320\n",
      "California    211\n",
      "Arizona       186\n",
      "Cali          120\n",
      "Nevada         98\n",
      "Washington     81\n",
      "WA             30\n",
      "AZ             25\n",
      "Name: ST, dtype: int64\n",
      "F         457\n",
      "M         413\n",
      "Male       39\n",
      "female     28\n",
      "Femal      17\n",
      "Name: GENDER, dtype: int64\n",
      "F         457\n",
      "M         413\n",
      "Male       39\n",
      "female     28\n",
      "Femal      17\n",
      "Name: GENDER, dtype: int64\n",
      "1/0/00    830\n",
      "1/1/00    138\n",
      "1/2/00     50\n",
      "1/3/00     34\n",
      "1/4/00     13\n",
      "1/5/00      6\n",
      "Name: Number of Open Complaints, dtype: int64\n",
      "Personal Auto     780\n",
      "Corporate Auto    234\n",
      "Special Auto       57\n",
      "Name: Policy Type, dtype: int64\n",
      "Four-Door Car    576\n",
      "Two-Door Car     205\n",
      "SUV              199\n",
      "Sports Car        57\n",
      "Luxury SUV        20\n",
      "Luxury Car        14\n",
      "Name: Vehicle Class, dtype: int64\n"
     ]
    }
   ],
   "source": [
    "Customer_stats = df['Customer'].value_counts()\n",
    "print(Customer_stats)\n",
    "\n",
    "ST_stats = df['ST'].value_counts()\n",
    "print(ST_stats)\n",
    "\n",
    "GENDER_stats = df['GENDER'].value_counts()\n",
    "print(GENDER_stats)\n",
    "\n",
    "Education_stats = df['Education'].value_counts()\n",
    "print(GENDER_stats)\n",
    "\n",
    "\n",
    "Number_of_Open_Complaints_stats = df['Number of Open Complaints'].value_counts()\n",
    "print(Number_of_Open_Complaints_stats )\n",
    "\n",
    "Policy_Type_stats = df['Policy Type'].value_counts()\n",
    "print(Policy_Type_stats)\n",
    "\n",
    "Vehicle_Class_stats = df['Vehicle Class'].value_counts()\n",
    "print(Vehicle_Class_stats)\n",
    "\n"
   ]
  },
  {
   "cell_type": "markdown",
   "id": "4a703890-63db-4944-b7ab-95a4f8185120",
   "metadata": {},
   "source": [
    "## Challenge 2: analyzing the data"
   ]
  },
  {
   "cell_type": "code",
   "execution_count": null,
   "id": "1c54ad35",
   "metadata": {},
   "outputs": [],
   "source": []
  },
  {
   "cell_type": "markdown",
   "id": "0776a403-c56a-452f-ac33-5fd4fdb06fc7",
   "metadata": {},
   "source": [
    "### Exercise 1"
   ]
  },
  {
   "cell_type": "markdown",
   "id": "eedbc484-da4d-4f9c-9343-e1d44311a87e",
   "metadata": {},
   "source": [
    "The marketing team wants to know the top 5 less common customer locations. Create a pandas Series object that contains the customer locations and their frequencies, and then retrieve the top 5 less common locations in ascending order."
   ]
  },
  {
   "cell_type": "code",
   "execution_count": 75,
   "id": "2dca5073-4520-4f42-9390-4b92733284ed",
   "metadata": {},
   "outputs": [
    {
     "name": "stdout",
     "output_type": "stream",
     "text": [
      "Oregon        320\n",
      "California    211\n",
      "Arizona       186\n",
      "Cali          120\n",
      "Nevada         98\n",
      "Washington     81\n",
      "WA             30\n",
      "AZ             25\n",
      "Name: ST, dtype: int64\n",
      "Cali          120\n",
      "Nevada         98\n",
      "Washington     81\n",
      "WA             30\n",
      "AZ             25\n",
      "Name: ST, dtype: int64\n"
     ]
    }
   ],
   "source": [
    "# Your code here\n",
    "\n",
    "data_ST = pd.Series(df['ST']).value_counts()\n",
    "print(data_ST)\n",
    "\n",
    "\n",
    "data_ST = pd.Series(df['ST']).value_counts().tail(5)\n",
    "\n",
    "\n",
    "print(data_ST)\n"
   ]
  },
  {
   "cell_type": "markdown",
   "id": "e8bc33e9-20fa-4852-8a96-acba1c802dd3",
   "metadata": {},
   "source": [
    "### Exercise 2\n"
   ]
  },
  {
   "cell_type": "markdown",
   "id": "feb47063-8ebb-4fa0-af2f-17a5c4cb1655",
   "metadata": {},
   "source": [
    "Your goal is to identify customers with a high policy claim amount.\n",
    "\n",
    "Instructions:\n",
    "\n",
    "- Review again the statistics for total claim amount to gain an understanding of the data.\n",
    "- To identify potential areas for improving customer retention and profitability, we want to focus on customers with a high policy claim amount. Consider customers with a high policy claim amount to be those in the top 25% of the total claim amount. Create a pandas DataFrame object that contains information about customers with a policy claim amount greater than the 75th percentile.\n",
    "- Use DataFrame methods to calculate summary statistics about the high policy claim amount data. "
   ]
  },
  {
   "cell_type": "markdown",
   "id": "9117fa27-7104-4b3d-b788-c554c63cd0b9",
   "metadata": {},
   "source": [
    "*Note: When analyzing data, we often want to focus on certain groups of values to gain insights. Percentiles are a useful tool to help us define these groups. A percentile is a measure that tells us what percentage of values in a dataset are below a certain value. For example, the 75th percentile represents the value below which 75% of the data falls. Similarly, the 25th percentile represents the value below which 25% of the data falls. When we talk about the top 25%, we are referring to the values that fall above the 75th percentile, which represent the top quarter of the data. On the other hand, when we talk about the bottom 25%, we are referring to the values that fall below the 25th percentile, which represent the bottom quarter of the data. By focusing on these groups, we can identify patterns and trends that may be useful for making decisions and taking action.*\n",
    "\n",
    "*Hint: look for a method that gives you the percentile or quantile 0.75 and 0.25 for a Pandas Series.*"
   ]
  },
  {
   "cell_type": "markdown",
   "id": "4b323dc6-b7db-4d33-8e11-abf5e7ac93f5",
   "metadata": {},
   "source": [
    "*Hint 2: check `Boolean selection according to the values of a single column` in https://towardsdatascience.com/filtering-data-frames-in-pandas-b570b1f834b9*"
   ]
  },
  {
   "cell_type": "code",
   "execution_count": null,
   "id": "b731bca6-a760-4860-a27b-a33efa712ce0",
   "metadata": {},
   "outputs": [],
   "source": [
    "# Your code here"
   ]
  },
  {
   "cell_type": "markdown",
   "id": "0ce80f43-4afa-43c7-a78a-c917444da4e0",
   "metadata": {},
   "source": [
    "### Exercise 3\n",
    "\n",
    "The sales team wants to know the total number of policies sold for each type of policy. Create a pandas Series object that contains the policy types and their total number of policies sold, and then retrieve the policy type with the highest number of policies sold."
   ]
  },
  {
   "cell_type": "markdown",
   "id": "a9f13997-1555-4f98-aca6-970fda1d2c3f",
   "metadata": {},
   "source": [
    "*Hint:*\n",
    "- *Using value_counts() method simplifies this analysis.*\n",
    "- *Futhermore, there is a method that returns the index of the maximum value in a column or row.*\n"
   ]
  },
  {
   "cell_type": "code",
   "execution_count": null,
   "id": "bcfad6c1-9af2-4b0b-9aa9-0dc5c17473c0",
   "metadata": {},
   "outputs": [],
   "source": [
    "# Your code here"
   ]
  },
  {
   "cell_type": "markdown",
   "id": "0b863fd3-bf91-4d5d-86eb-be29ed9f5b70",
   "metadata": {},
   "source": [
    "### Exercise 4\n",
    "\n",
    "The sales team wants to know if customers with Personal Auto have a income than those with Corporate Auto. How does the average income compare between the two policy types?"
   ]
  },
  {
   "cell_type": "markdown",
   "id": "b1386d75-2810-4aa1-93e0-9485aa12d552",
   "metadata": {},
   "source": [
    "- Use *loc* to create two dataframes: one containing only Personal Auto policies and one containing only Corporate Auto policies.\n",
    "- Calculate the average income for each policy.\n",
    "- Print the results."
   ]
  },
  {
   "cell_type": "code",
   "execution_count": null,
   "id": "0c0563cf-6f8b-463d-a321-651a972f82e5",
   "metadata": {},
   "outputs": [],
   "source": [
    "# Your code here"
   ]
  }
 ],
 "metadata": {
  "kernelspec": {
   "display_name": "Python 3 (ipykernel)",
   "language": "python",
   "name": "python3"
  },
  "language_info": {
   "codemirror_mode": {
    "name": "ipython",
    "version": 3
   },
   "file_extension": ".py",
   "mimetype": "text/x-python",
   "name": "python",
   "nbconvert_exporter": "python",
   "pygments_lexer": "ipython3",
   "version": "3.9.13"
  }
 },
 "nbformat": 4,
 "nbformat_minor": 5
}
