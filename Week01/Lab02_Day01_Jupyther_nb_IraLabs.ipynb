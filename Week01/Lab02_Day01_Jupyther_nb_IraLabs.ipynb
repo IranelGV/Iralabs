{
 "cells": [
  {
   "cell_type": "markdown",
   "id": "8ef70db9",
   "metadata": {},
   "source": [
    "## Lab_02 Day 01\n",
    "## Getting familiar on Python\n",
    "\n",
    "**Explain the purpose of the notebook with a markdown cell:**\n",
    "\n",
    "The puspose of the notebook in Jupyter is to have a space to be able to write, run and test our code. Having a friendly environment  to also take notes, describe our code and write down short notes to explain it."
   ]
  },
  {
   "cell_type": "code",
   "execution_count": null,
   "id": "4943e021",
   "metadata": {},
   "outputs": [],
   "source": [
    "#Write a function that takes an input - which will be the selected person's name\n",
    "\n",
    "selected_person = input (\"which will be the selected persons name:\")\n",
    "print (selected_person)\n",
    "\n",
    "##![image.png](attachment:image.png)"
   ]
  },
  {
   "cell_type": "markdown",
   "id": "b6a2109b",
   "metadata": {},
   "source": [
    "# Upload a photo of that person to the notebook\n",
    "\n",
    "![Ana_Armmas](https://image.gala.de/22946472/t/Zn/v6/w1440/r1/-/ana-de-armas.jpg)\n",
    "\n",
    "\n",
    "# Add a photo or screenshot of the holiday destination\n",
    "\n",
    "![Cancun_Holiday](https://thecancunsun.com/wp-content/uploads/2022/11/The-Ultimate-Guide-To-Exploring-Top-Cenotes-Near-Cancun-1.jpg)\n",
    "\n",
    "\n",
    "# Add bullet points of the top 3 things that the person likes to do at this destination.\n",
    "\n",
    "- Drinks Margaritas\n",
    "- Scuba Diving\n",
    "- Get a boat abd go to \"Isla Mujeres\"\n",
    "\n",
    "# Relevant annotations to explain any function you have used\n",
    "\n",
    "*I have used input funtion and print funtions.*\n"
   ]
  },
  {
   "cell_type": "markdown",
   "id": "a28c73f4",
   "metadata": {},
   "source": [
    "[Here](https://www.youtube.com/watch?v=uVLzL5E-YBM&t=213s) you can find a video with more explanations to learn how to use Markdown"
   ]
  },
  {
   "cell_type": "code",
   "execution_count": null,
   "id": "8f1f4f1c",
   "metadata": {},
   "outputs": [],
   "source": []
  }
 ],
 "metadata": {
  "kernelspec": {
   "display_name": "Python 3 (ipykernel)",
   "language": "python",
   "name": "python3"
  },
  "language_info": {
   "codemirror_mode": {
    "name": "ipython",
    "version": 3
   },
   "file_extension": ".py",
   "mimetype": "text/x-python",
   "name": "python",
   "nbconvert_exporter": "python",
   "pygments_lexer": "ipython3",
   "version": "3.9.13"
  }
 },
 "nbformat": 4,
 "nbformat_minor": 5
}
