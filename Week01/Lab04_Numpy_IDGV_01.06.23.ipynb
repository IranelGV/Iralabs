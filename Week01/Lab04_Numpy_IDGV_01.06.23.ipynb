{
 "cells": [
  {
   "cell_type": "markdown",
   "id": "d9798f81",
   "metadata": {},
   "source": [
    "1. Import the numpy package under the name np (★☆☆)"
   ]
  },
  {
   "cell_type": "code",
   "execution_count": 2,
   "id": "20f024b2",
   "metadata": {},
   "outputs": [],
   "source": [
    "import numpy as np"
   ]
  },
  {
   "cell_type": "markdown",
   "id": "35acc313",
   "metadata": {},
   "source": [
    "2. Create a null vector of size 10 (★☆☆)"
   ]
  },
  {
   "cell_type": "code",
   "execution_count": 4,
   "id": "ffdb46ca",
   "metadata": {},
   "outputs": [
    {
     "data": {
      "text/plain": [
       "array([0, 0, 0, 0, 0, 0, 0, 0, 0, 0])"
      ]
     },
     "execution_count": 4,
     "metadata": {},
     "output_type": "execute_result"
    }
   ],
   "source": [
    "a = np.array([0,0,0,0,0,0,0,0,0,0])\n",
    "a"
   ]
  },
  {
   "cell_type": "code",
   "execution_count": 29,
   "id": "d6636918",
   "metadata": {},
   "outputs": [
    {
     "name": "stdout",
     "output_type": "stream",
     "text": [
      "[0. 0. 0. 0. 0. 0. 0. 0. 0. 0.]\n"
     ]
    }
   ],
   "source": [
    "\n",
    "# in this case this is not an array\n",
    "a = np.zeros(10)\n",
    "print(a)"
   ]
  },
  {
   "cell_type": "code",
   "execution_count": 5,
   "id": "1d0bc147",
   "metadata": {},
   "outputs": [
    {
     "data": {
      "text/plain": [
       "(10,)"
      ]
     },
     "execution_count": 5,
     "metadata": {},
     "output_type": "execute_result"
    }
   ],
   "source": [
    "a.shape"
   ]
  },
  {
   "cell_type": "markdown",
   "id": "c76eed3b",
   "metadata": {},
   "source": [
    "3. Create a null vector of size 10 but the fifth value which is 1 (★☆☆)"
   ]
  },
  {
   "cell_type": "code",
   "execution_count": 7,
   "id": "cb7e3878",
   "metadata": {},
   "outputs": [
    {
     "data": {
      "text/plain": [
       "array([0, 0, 0, 0, 1, 0, 0, 0, 0, 0])"
      ]
     },
     "execution_count": 7,
     "metadata": {},
     "output_type": "execute_result"
    }
   ],
   "source": [
    "a = np.array([0,0,0,0,1,0,0,0,0,0])\n",
    "a"
   ]
  },
  {
   "cell_type": "code",
   "execution_count": 7,
   "id": "c3581625",
   "metadata": {},
   "outputs": [
    {
     "name": "stdout",
     "output_type": "stream",
     "text": [
      "[0. 0. 0. 0. 1. 0. 0. 0. 0. 0.]\n"
     ]
    }
   ],
   "source": [
    "x= np.zeros(10)\n",
    "\n",
    "x[4]=1\n",
    "\n",
    "print(x)"
   ]
  },
  {
   "cell_type": "markdown",
   "id": "01c576dc",
   "metadata": {},
   "source": [
    "4. Create a vector with values ranging from 10 to 49 (★☆☆)"
   ]
  },
  {
   "cell_type": "code",
   "execution_count": 9,
   "id": "945785a0",
   "metadata": {},
   "outputs": [
    {
     "data": {
      "text/plain": [
       "array([10, 11, 12, 13, 14, 15, 16, 17, 18, 19, 20, 21, 22, 23, 24, 25, 26,\n",
       "       27, 28, 29, 30, 31, 32, 33, 34, 35, 36, 37, 38, 39, 40, 41, 42, 43,\n",
       "       44, 45, 46, 47, 48, 49])"
      ]
     },
     "execution_count": 9,
     "metadata": {},
     "output_type": "execute_result"
    }
   ],
   "source": [
    "a = np.arange(10,50)\n",
    "a"
   ]
  },
  {
   "cell_type": "markdown",
   "id": "0a3c6010",
   "metadata": {},
   "source": [
    "5. Create a 3x3 matrix with values ranging from 0 to 8 (★☆☆)"
   ]
  },
  {
   "cell_type": "code",
   "execution_count": 16,
   "id": "dcf15b4a",
   "metadata": {},
   "outputs": [
    {
     "data": {
      "text/plain": [
       "array([[2, 7, 3],\n",
       "       [1, 5, 4],\n",
       "       [4, 2, 4]])"
      ]
     },
     "execution_count": 16,
     "metadata": {},
     "output_type": "execute_result"
    }
   ],
   "source": [
    "np.random.randint(0,8, (3,3))\n"
   ]
  },
  {
   "cell_type": "markdown",
   "id": "64418211",
   "metadata": {},
   "source": [
    "6. Find indices of non-zero elements from [1,2,0,0,4,0] (★☆☆)"
   ]
  },
  {
   "cell_type": "code",
   "execution_count": 28,
   "id": "3cbe436c",
   "metadata": {},
   "outputs": [
    {
     "name": "stdout",
     "output_type": "stream",
     "text": [
      "(array([0, 1, 4], dtype=int64),)\n"
     ]
    }
   ],
   "source": [
    "a = np.nonzero([1,2,0,0,4,0])\n",
    "print(a)\n"
   ]
  },
  {
   "cell_type": "code",
   "execution_count": 13,
   "id": "8c397614",
   "metadata": {},
   "outputs": [
    {
     "data": {
      "text/plain": [
       "[1, 2, 0, 0, 4, 0]"
      ]
     },
     "execution_count": 13,
     "metadata": {},
     "output_type": "execute_result"
    }
   ],
   "source": [
    "a = [1,2,0,0,4,0]\n",
    "a_zero = np.nonzero(a)\n",
    "a"
   ]
  },
  {
   "cell_type": "code",
   "execution_count": 10,
   "id": "a367d6cc",
   "metadata": {},
   "outputs": [
    {
     "name": "stdout",
     "output_type": "stream",
     "text": [
      "Help on function nonzero in module numpy:\n",
      "\n",
      "nonzero(a)\n",
      "    Return the indices of the elements that are non-zero.\n",
      "    \n",
      "    Returns a tuple of arrays, one for each dimension of `a`,\n",
      "    containing the indices of the non-zero elements in that\n",
      "    dimension. The values in `a` are always tested and returned in\n",
      "    row-major, C-style order.\n",
      "    \n",
      "    To group the indices by element, rather than dimension, use `argwhere`,\n",
      "    which returns a row for each non-zero element.\n",
      "    \n",
      "    .. note::\n",
      "    \n",
      "       When called on a zero-d array or scalar, ``nonzero(a)`` is treated\n",
      "       as ``nonzero(atleast_1d(a))``.\n",
      "    \n",
      "       .. deprecated:: 1.17.0\n",
      "    \n",
      "          Use `atleast_1d` explicitly if this behavior is deliberate.\n",
      "    \n",
      "    Parameters\n",
      "    ----------\n",
      "    a : array_like\n",
      "        Input array.\n",
      "    \n",
      "    Returns\n",
      "    -------\n",
      "    tuple_of_arrays : tuple\n",
      "        Indices of elements that are non-zero.\n",
      "    \n",
      "    See Also\n",
      "    --------\n",
      "    flatnonzero :\n",
      "        Return indices that are non-zero in the flattened version of the input\n",
      "        array.\n",
      "    ndarray.nonzero :\n",
      "        Equivalent ndarray method.\n",
      "    count_nonzero :\n",
      "        Counts the number of non-zero elements in the input array.\n",
      "    \n",
      "    Notes\n",
      "    -----\n",
      "    While the nonzero values can be obtained with ``a[nonzero(a)]``, it is\n",
      "    recommended to use ``x[x.astype(bool)]`` or ``x[x != 0]`` instead, which\n",
      "    will correctly handle 0-d arrays.\n",
      "    \n",
      "    Examples\n",
      "    --------\n",
      "    >>> x = np.array([[3, 0, 0], [0, 4, 0], [5, 6, 0]])\n",
      "    >>> x\n",
      "    array([[3, 0, 0],\n",
      "           [0, 4, 0],\n",
      "           [5, 6, 0]])\n",
      "    >>> np.nonzero(x)\n",
      "    (array([0, 1, 2, 2]), array([0, 1, 0, 1]))\n",
      "    \n",
      "    >>> x[np.nonzero(x)]\n",
      "    array([3, 4, 5, 6])\n",
      "    >>> np.transpose(np.nonzero(x))\n",
      "    array([[0, 0],\n",
      "           [1, 1],\n",
      "           [2, 0],\n",
      "           [2, 1]])\n",
      "    \n",
      "    A common use for ``nonzero`` is to find the indices of an array, where\n",
      "    a condition is True.  Given an array `a`, the condition `a` > 3 is a\n",
      "    boolean array and since False is interpreted as 0, np.nonzero(a > 3)\n",
      "    yields the indices of the `a` where the condition is true.\n",
      "    \n",
      "    >>> a = np.array([[1, 2, 3], [4, 5, 6], [7, 8, 9]])\n",
      "    >>> a > 3\n",
      "    array([[False, False, False],\n",
      "           [ True,  True,  True],\n",
      "           [ True,  True,  True]])\n",
      "    >>> np.nonzero(a > 3)\n",
      "    (array([1, 1, 1, 2, 2, 2]), array([0, 1, 2, 0, 1, 2]))\n",
      "    \n",
      "    Using this result to index `a` is equivalent to using the mask directly:\n",
      "    \n",
      "    >>> a[np.nonzero(a > 3)]\n",
      "    array([4, 5, 6, 7, 8, 9])\n",
      "    >>> a[a > 3]  # prefer this spelling\n",
      "    array([4, 5, 6, 7, 8, 9])\n",
      "    \n",
      "    ``nonzero`` can also be called as a method of the array.\n",
      "    \n",
      "    >>> (a > 3).nonzero()\n",
      "    (array([1, 1, 1, 2, 2, 2]), array([0, 1, 2, 0, 1, 2]))\n",
      "\n"
     ]
    }
   ],
   "source": [
    "help(np.nonzero)"
   ]
  },
  {
   "cell_type": "markdown",
   "id": "85052d99",
   "metadata": {},
   "source": [
    "7. Create a 3x3 identity matrix (★☆☆)"
   ]
  },
  {
   "cell_type": "code",
   "execution_count": 17,
   "id": "34eb630b",
   "metadata": {},
   "outputs": [
    {
     "data": {
      "text/plain": [
       "array([[33, 33, 33],\n",
       "       [33, 33, 33],\n",
       "       [33, 33, 33]])"
      ]
     },
     "execution_count": 17,
     "metadata": {},
     "output_type": "execute_result"
    }
   ],
   "source": [
    "a = np.full((3,3), 33)\n",
    "a"
   ]
  },
  {
   "cell_type": "markdown",
   "id": "d5cd75b6",
   "metadata": {},
   "source": [
    "8. Create a 3x3x3 array with random values (★☆☆)  to check"
   ]
  },
  {
   "cell_type": "code",
   "execution_count": 20,
   "id": "a6e23fa7",
   "metadata": {
    "scrolled": true
   },
   "outputs": [
    {
     "data": {
      "text/plain": [
       "array([[[0.91395063, 0.4097082 , 0.62073177],\n",
       "        [0.80103817, 0.22210082, 0.0705483 ],\n",
       "        [0.99898151, 0.20289831, 0.24926979]],\n",
       "\n",
       "       [[0.60969799, 0.3125975 , 0.78585591],\n",
       "        [0.83518221, 0.59786045, 0.57009618],\n",
       "        [0.83436872, 0.9189124 , 0.90993296]],\n",
       "\n",
       "       [[0.84206719, 0.99153535, 0.74781164],\n",
       "        [0.89201915, 0.80634392, 0.12750434],\n",
       "        [0.26890808, 0.64876625, 0.37415427]]])"
      ]
     },
     "execution_count": 20,
     "metadata": {},
     "output_type": "execute_result"
    }
   ],
   "source": [
    "a = np.random.random((3,3,3))\n",
    "a"
   ]
  },
  {
   "cell_type": "markdown",
   "id": "e152b009",
   "metadata": {},
   "source": [
    "9. Create a 10x10 array with random values and find the minimum and maximum values (★☆☆)"
   ]
  },
  {
   "cell_type": "code",
   "execution_count": 27,
   "id": "a62f25fe",
   "metadata": {},
   "outputs": [
    {
     "name": "stdout",
     "output_type": "stream",
     "text": [
      "[[0.32495129 0.80158131 0.19621205 0.42485305 0.41617833 0.50905664\n",
      "  0.9233053  0.39412492 0.41896842 0.05116474]\n",
      " [0.29591997 0.65369814 0.2466819  0.71646084 0.03360429 0.2611815\n",
      "  0.24391824 0.09502001 0.17741352 0.49622055]\n",
      " [0.27114156 0.6246546  0.62172533 0.02027761 0.56418961 0.82415655\n",
      "  0.02277182 0.90836815 0.26957849 0.07881704]\n",
      " [0.0539336  0.08938554 0.36871665 0.91861892 0.16197522 0.79881799\n",
      "  0.22555982 0.50254773 0.13080571 0.64525164]\n",
      " [0.42298352 0.42369865 0.71672599 0.29112971 0.88750682 0.35409686\n",
      "  0.03953006 0.70997401 0.64046081 0.18181604]\n",
      " [0.64494117 0.85455058 0.65464307 0.46242971 0.57595902 0.26434005\n",
      "  0.31781445 0.72412658 0.35901147 0.15501336]\n",
      " [0.82720406 0.15282886 0.49114361 0.52665033 0.76765576 0.46598203\n",
      "  0.23606047 0.16350835 0.98706193 0.05007841]\n",
      " [0.41403204 0.27808531 0.83988102 0.40114683 0.78062161 0.96305828\n",
      "  0.92171269 0.54951759 0.85530881 0.84092336]\n",
      " [0.41874167 0.90165843 0.04267883 0.39148328 0.31196587 0.43909752\n",
      "  0.55889789 0.55101816 0.45126202 0.05756932]\n",
      " [0.68493871 0.38399814 0.44594679 0.95122945 0.56248053 0.11770696\n",
      "  0.71498625 0.79001039 0.34118661 0.23074433]]\n",
      "0.9870619264887619\n",
      "0.02027760872413098\n"
     ]
    }
   ],
   "source": [
    "a = np.random.random((10,10))\n",
    "print(a)\n",
    "\n",
    "\n",
    "# Mean of all the elements in the first two groups of array b\n",
    "print(np.max(a[::]))\n",
    "print(np.min(a[::]))"
   ]
  },
  {
   "cell_type": "markdown",
   "id": "8e13de3d",
   "metadata": {},
   "source": [
    "10. Create a random vector of size 30 and find the mean value (★☆☆)"
   ]
  },
  {
   "cell_type": "code",
   "execution_count": 26,
   "id": "0e261307",
   "metadata": {},
   "outputs": [
    {
     "name": "stdout",
     "output_type": "stream",
     "text": [
      "[ 0  1  2  3  4  5  6  7  8  9 10 11 12 13 14 15 16 17 18 19 20 21 22 23\n",
      " 24 25 26 27 28 29]\n",
      "14.5\n"
     ]
    }
   ],
   "source": [
    "a = np.arange(0,30)\n",
    "print(a)\n",
    "\n",
    "print(np.mean(a[::]))"
   ]
  },
  {
   "cell_type": "markdown",
   "id": "ae634fb8",
   "metadata": {},
   "source": [
    "11. Create a 5x5 matrix with values 1,2,3,4 just below the diagonal (★☆☆)"
   ]
  },
  {
   "cell_type": "code",
   "execution_count": 30,
   "id": "c5bdb3ac",
   "metadata": {},
   "outputs": [
    {
     "name": "stdout",
     "output_type": "stream",
     "text": [
      "[[0 0 0 0 0]\n",
      " [1 0 0 0 0]\n",
      " [0 2 0 0 0]\n",
      " [0 0 3 0 0]\n",
      " [0 0 0 4 0]]\n"
     ]
    }
   ],
   "source": [
    "a = np.diag(1+np.arange(4),k=-1)\n",
    "print(a)"
   ]
  },
  {
   "cell_type": "code",
   "execution_count": 32,
   "id": "c8e4778f",
   "metadata": {
    "scrolled": true
   },
   "outputs": [
    {
     "name": "stdout",
     "output_type": "stream",
     "text": [
      "[[1 0 0 0]\n",
      " [0 2 0 0]\n",
      " [0 0 3 0]\n",
      " [0 0 0 4]]\n"
     ]
    }
   ],
   "source": [
    "a = np.diag([1, 2, 3, 4])\n",
    "print(a)"
   ]
  },
  {
   "cell_type": "code",
   "execution_count": 36,
   "id": "aef1039d",
   "metadata": {},
   "outputs": [
    {
     "data": {
      "text/plain": [
       "array([[0, 0, 0, 0, 0],\n",
       "       [0, 1, 0, 0, 0],\n",
       "       [0, 0, 2, 0, 0],\n",
       "       [0, 0, 0, 3, 0],\n",
       "       [0, 0, 0, 0, 4]])"
      ]
     },
     "execution_count": 36,
     "metadata": {},
     "output_type": "execute_result"
    }
   ],
   "source": [
    "a = np.diag(np.arange(5))\n",
    "a"
   ]
  },
  {
   "cell_type": "code",
   "execution_count": 38,
   "id": "0cc0913c",
   "metadata": {},
   "outputs": [
    {
     "data": {
      "text/plain": [
       "array([[0, 0, 0, 0, 0],\n",
       "       [0, 0, 0, 0, 0],\n",
       "       [0, 1, 0, 0, 0],\n",
       "       [0, 0, 2, 0, 0],\n",
       "       [0, 0, 0, 3, 0]])"
      ]
     },
     "execution_count": 38,
     "metadata": {},
     "output_type": "execute_result"
    }
   ],
   "source": [
    "a = np.diag(np.arange(4),k=-1)\n",
    "a"
   ]
  },
  {
   "cell_type": "markdown",
   "id": "b3602572",
   "metadata": {},
   "source": [
    "12. Normalize a 5x5 random matrix (★☆☆)"
   ]
  },
  {
   "cell_type": "code",
   "execution_count": 52,
   "id": "ec42a9ca",
   "metadata": {},
   "outputs": [
    {
     "name": "stdout",
     "output_type": "stream",
     "text": [
      "[[0.72466127 0.39379005 0.91492674 0.18016358 0.07454953]\n",
      " [0.67266777 0.89307526 0.59823968 0.91285315 0.65885232]\n",
      " [0.54209621 0.2475353  0.84855115 0.88016012 0.59109082]\n",
      " [0.05772889 0.14105456 0.33400192 0.07039119 0.60773529]\n",
      " [0.16714919 0.40194189 0.71245609 0.09405803 0.47934184]]\n",
      "After normalization:\n",
      "[[0.77803787 0.39204621 1.         0.14283132 0.01962282]\n",
      " [0.71738267 0.97450825 0.63055547 0.99758097 0.70126568]\n",
      " [0.56505895 0.22142661 0.92256679 0.95944155 0.62221567]\n",
      " [0.         0.09720705 0.32229786 0.01477173 0.64163298]\n",
      " [0.12764883 0.40155608 0.7637994  0.04238128 0.49185022]]\n"
     ]
    },
    {
     "data": {
      "text/plain": [
       "'The goal of normalization is to change the values of numeric \\ncolumns in the dataset to a common scale, without distorting \\ndifferences in the ranges of values. For machine learning, \\nevery dataset does not require normalization. It is required only \\nwhen features have different ranges.'"
      ]
     },
     "execution_count": 52,
     "metadata": {},
     "output_type": "execute_result"
    }
   ],
   "source": [
    "a = np.random.random((5,5))\n",
    "\n",
    "print(a)\n",
    "\n",
    "\n",
    "amax, amin = a.max(), a.min()\n",
    "a = (a - amin)/(amax - amin)\n",
    "\n",
    "print(\"After normalization:\")\n",
    "print(a)\n",
    "\n",
    "\"\"\"The goal of normalization is to change the values of numeric \n",
    "columns in the dataset to a common scale, without distorting \n",
    "differences in the ranges of values. For machine learning, \n",
    "every dataset does not require normalization. It is required only \n",
    "when features have different ranges.\"\"\"\n",
    "\n",
    "# normalize the data attributes\n",
    "#normalized = preprocessing.normalize(a)\n",
    "#print(\"Normalized Data = \", normalized)"
   ]
  },
  {
   "cell_type": "markdown",
   "id": "e7a4a1fb",
   "metadata": {},
   "source": [
    "13. How to find common values between two arrays? (★☆☆)"
   ]
  },
  {
   "cell_type": "code",
   "execution_count": 17,
   "id": "8ed9cb0d",
   "metadata": {},
   "outputs": [
    {
     "name": "stdout",
     "output_type": "stream",
     "text": [
      "[[0 3 3 2 0]\n",
      " [9 4 9 9 7]\n",
      " [6 1 2 0 1]\n",
      " [5 4 1 8 0]\n",
      " [3 9 4 0 7]]\n",
      "[[0 3 5 5 8]\n",
      " [5 1 6 8 9]\n",
      " [3 4 5 3 9]\n",
      " [9 9 8 0 4]\n",
      " [7 6 2 3 8]]\n",
      "[0 1 2 3 4 5 6 7 8 9]\n"
     ]
    }
   ],
   "source": [
    "#array01 = np.random.random((5,5))\n",
    "#array02 = np.random.random((5,5))\n",
    "\n",
    "a= np.random.randint(0,10,(5,5))\n",
    "b= np.random.randint(0,10,(5,5))\n",
    "\n",
    "#print(array01)\n",
    "#print(array02)\n",
    "\n",
    "print(a)\n",
    "print(b)\n",
    "# Common values between two arrays\n",
    "print(np.intersect1d(a,b))"
   ]
  },
  {
   "cell_type": "markdown",
   "id": "3806c17d",
   "metadata": {},
   "source": [
    "14. Create a random vector of size 10 and sort it (★★☆)"
   ]
  },
  {
   "cell_type": "code",
   "execution_count": 56,
   "id": "338c7e11",
   "metadata": {},
   "outputs": [
    {
     "name": "stdout",
     "output_type": "stream",
     "text": [
      "Original array:\n",
      "[0.47204677 0.84173744 0.57055183 0.74029167 0.56023054 0.8937102\n",
      " 0.22587    0.16801761 0.98593939 0.97944878]\n",
      "Sorted array:\n",
      "[0.16801761 0.22587    0.47204677 0.56023054 0.57055183 0.74029167\n",
      " 0.84173744 0.8937102  0.97944878 0.98593939]\n"
     ]
    }
   ],
   "source": [
    "a = np.random.random(10)\n",
    "print(\"Original array:\")\n",
    "print(a)\n",
    "a.sort()\n",
    "print(\"Sorted array:\")\n",
    "print(a)"
   ]
  },
  {
   "cell_type": "code",
   "execution_count": 18,
   "id": "2ed6c8eb",
   "metadata": {},
   "outputs": [
    {
     "name": "stdout",
     "output_type": "stream",
     "text": [
      "Original array:\n",
      "[3 0 8 7 9]\n",
      "Sorted array:\n",
      "[0 3 7 8 9]\n"
     ]
    }
   ],
   "source": [
    "a= np.random.randint(0,10,(5))\n",
    "print(\"Original array:\")\n",
    "print(a)\n",
    "a.sort()\n",
    "print(\"Sorted array:\")\n",
    "print(a)"
   ]
  },
  {
   "cell_type": "markdown",
   "id": "d8ddb0b6",
   "metadata": {},
   "source": [
    "15. Create random vector of size 10 and replace the maximum value by 0 (★★☆)"
   ]
  },
  {
   "cell_type": "code",
   "execution_count": 21,
   "id": "44970749",
   "metadata": {},
   "outputs": [
    {
     "name": "stdout",
     "output_type": "stream",
     "text": [
      "[9 4 4 3 0 0 0 0 2 0]\n",
      "9\n",
      "[0 4 4 3 0 0 0 0 2 0]\n"
     ]
    }
   ],
   "source": [
    "a= np.random.randint(0,10,(10))\n",
    "\n",
    "#a = np.random.random(10)\n",
    "#a = np.array(np.random.random(10))\n",
    "print(a)\n",
    "\n",
    "print(np.max(a))\n",
    "\n",
    "a[np.argmax(a)]=0\n",
    "\n",
    "#a[(np.max(a))] = 0\n",
    "\n",
    "print(a)"
   ]
  },
  {
   "cell_type": "code",
   "execution_count": 71,
   "id": "6c101239",
   "metadata": {},
   "outputs": [
    {
     "name": "stdout",
     "output_type": "stream",
     "text": [
      "[0.0457777  0.35726311 0.31973212 0.07973465 0.22232044 0.6109917\n",
      " 0.77119931 0.18835551 0.79601406 0.3830146 ]\n",
      "0.7960140559934207\n"
     ]
    }
   ],
   "source": [
    "a = np.random.random(10)\n",
    "\n",
    "print(a)\n",
    "\n",
    "print(np.max(a))"
   ]
  },
  {
   "cell_type": "markdown",
   "id": "3944727c",
   "metadata": {},
   "source": [
    "16. Subtract the mean of each row of a matrix (★★☆)"
   ]
  },
  {
   "cell_type": "code",
   "execution_count": 4,
   "id": "fa893dfa",
   "metadata": {
    "scrolled": true
   },
   "outputs": [
    {
     "name": "stdout",
     "output_type": "stream",
     "text": [
      "[0.38034035 0.5501378  0.35797512 0.59823437 0.54104529]\n"
     ]
    },
    {
     "ename": "TypeError",
     "evalue": "Cannot construct a dtype from an array",
     "output_type": "error",
     "traceback": [
      "\u001b[1;31m---------------------------------------------------------------------------\u001b[0m",
      "\u001b[1;31mTypeError\u001b[0m                                 Traceback (most recent call last)",
      "\u001b[1;32m~\\AppData\\Local\\Temp\\ipykernel_44328\\1277517418.py\u001b[0m in \u001b[0;36m<module>\u001b[1;34m\u001b[0m\n\u001b[0;32m     13\u001b[0m \u001b[1;33m\u001b[0m\u001b[0m\n\u001b[0;32m     14\u001b[0m \u001b[0mfirst\u001b[0m \u001b[1;33m=\u001b[0m \u001b[0mnp\u001b[0m\u001b[1;33m.\u001b[0m\u001b[0marray\u001b[0m\u001b[1;33m(\u001b[0m\u001b[0mb\u001b[0m\u001b[1;33m)\u001b[0m\u001b[1;33m\u001b[0m\u001b[1;33m\u001b[0m\u001b[0m\n\u001b[1;32m---> 15\u001b[1;33m \u001b[0msecond\u001b[0m \u001b[1;33m=\u001b[0m \u001b[0mnp\u001b[0m\u001b[1;33m.\u001b[0m\u001b[0marray\u001b[0m\u001b[1;33m(\u001b[0m\u001b[0mb\u001b[0m\u001b[1;33m,\u001b[0m\u001b[0mb\u001b[0m\u001b[1;33m)\u001b[0m\u001b[1;33m\u001b[0m\u001b[1;33m\u001b[0m\u001b[0m\n\u001b[0m\u001b[0;32m     16\u001b[0m \u001b[1;33m\u001b[0m\u001b[0m\n\u001b[0;32m     17\u001b[0m \u001b[0mresult\u001b[0m\u001b[1;33m=\u001b[0m \u001b[0mnp\u001b[0m\u001b[1;33m.\u001b[0m\u001b[0mconcatenate\u001b[0m\u001b[1;33m(\u001b[0m\u001b[1;33m[\u001b[0m\u001b[0mfirst\u001b[0m\u001b[1;33m,\u001b[0m \u001b[0msecond\u001b[0m\u001b[1;33m]\u001b[0m\u001b[1;33m)\u001b[0m\u001b[1;33m\u001b[0m\u001b[1;33m\u001b[0m\u001b[0m\n",
      "\u001b[1;31mTypeError\u001b[0m: Cannot construct a dtype from an array"
     ]
    }
   ],
   "source": [
    "import numpy as np\n",
    "a= np.random.random((5,3))\n",
    "\n",
    "#print(a)\n",
    "#print(a.T)\n",
    "\n",
    "# Mean of each row in matrix a\n",
    "\n",
    "b= (np.mean(a, axis=1))\n",
    "\n",
    "print(b)\n",
    "\n",
    "\n",
    "first = np.array(b)\n",
    "second = np.array(b,b)\n",
    "\n",
    "result= np.concatenate([first, second])\n",
    "print(result)\n",
    "\n",
    "#c = (b.T)\n",
    "\n",
    "#print(c)\n",
    "\n",
    "#print(a-c)\n",
    "\n",
    "#print(a-b)\n",
    "\n"
   ]
  },
  {
   "cell_type": "code",
   "execution_count": 25,
   "id": "4c8e6b4d",
   "metadata": {},
   "outputs": [
    {
     "name": "stdout",
     "output_type": "stream",
     "text": [
      "[[8 9 0]\n",
      " [3 4 2]\n",
      " [4 9 5]\n",
      " [9 7 9]\n",
      " [1 2 6]]\n",
      "[5.66666667 3.         6.         8.33333333 3.        ]\n",
      "[[5.66666667]\n",
      " [3.        ]\n",
      " [6.        ]\n",
      " [8.33333333]\n",
      " [3.        ]]\n",
      "[[ 2.33333333  3.33333333 -5.66666667]\n",
      " [ 0.          1.         -1.        ]\n",
      " [-2.          3.         -1.        ]\n",
      " [ 0.66666667 -1.33333333  0.66666667]\n",
      " [-2.         -1.          3.        ]]\n"
     ]
    }
   ],
   "source": [
    "import numpy as np\n",
    "a= np.random.randint(0,10,(5,3))\n",
    "\n",
    "print(a)\n",
    "\n",
    "\n",
    "# Mean of each row in matrix a\n",
    "\n",
    "b= (np.mean(a, axis=1))\n",
    "\n",
    "print(b)\n",
    "\n",
    "#a.sum(axis=1, keepdims=True)\n",
    "\n",
    "c= np.mean(a, keepdims=True, axis=1)\n",
    "print(c)\n",
    "\n",
    "\n",
    "d= a-c\n",
    "\n",
    "print(d)\n",
    "\n",
    "\n"
   ]
  },
  {
   "cell_type": "markdown",
   "id": "5ce4cdd3",
   "metadata": {},
   "source": [
    "17. How to get the n largest values of an array (★★★)"
   ]
  },
  {
   "cell_type": "code",
   "execution_count": 69,
   "id": "dea9c779",
   "metadata": {},
   "outputs": [
    {
     "name": "stdout",
     "output_type": "stream",
     "text": [
      "[[0.88246509 0.4301601  0.36244728 0.92636889 0.97366749 0.19405887\n",
      "  0.87330374 0.32530721 0.26492245 0.39343394]\n",
      " [0.26765263 0.15276287 0.08030389 0.66721227 0.17426365 0.16115525\n",
      "  0.35582893 0.51801196 0.11773102 0.79202016]\n",
      " [0.72977684 0.65433728 0.78416355 0.04176255 0.34627183 0.48652065\n",
      "  0.90707085 0.84911626 0.50241097 0.86092548]\n",
      " [0.73308385 0.63706011 0.44843506 0.75267201 0.26788136 0.84045912\n",
      "  0.32519098 0.78332731 0.63440293 0.37699268]\n",
      " [0.1430941  0.10307876 0.55897218 0.60106419 0.35849437 0.68585132\n",
      "  0.81750785 0.97616138 0.10602643 0.9817763 ]\n",
      " [0.10719363 0.29403945 0.74844976 0.97576119 0.08136214 0.93621456\n",
      "  0.56230195 0.08912578 0.78195372 0.91523507]\n",
      " [0.70694519 0.04422669 0.13159025 0.33071541 0.83860676 0.76603485\n",
      "  0.63812702 0.49605287 0.87689071 0.14243439]\n",
      " [0.32348978 0.99151652 0.8431554  0.17966525 0.57990842 0.05360447\n",
      "  0.08839493 0.26320002 0.65731476 0.7662914 ]\n",
      " [0.30690675 0.56160371 0.51897388 0.84142889 0.56499921 0.70016878\n",
      "  0.7673506  0.62427653 0.15560084 0.02627605]\n",
      " [0.05639879 0.35592029 0.00963478 0.90975609 0.25408959 0.32604773\n",
      "  0.95110474 0.3132366  0.6413082  0.2208317 ]]\n",
      "0.9915165210706349\n"
     ]
    }
   ],
   "source": [
    "a= np.random.random((10,10))\n",
    "\n",
    "#Z = np.arange(10000) np.random.shuffle(Z) n = 5 hint: np.argsort | np.argpartition\n",
    "\n",
    "\n",
    "\n",
    "print(a)\n",
    "\n",
    "print(np.max(a))"
   ]
  },
  {
   "cell_type": "code",
   "execution_count": 27,
   "id": "eb532865",
   "metadata": {},
   "outputs": [
    {
     "name": "stdout",
     "output_type": "stream",
     "text": [
      "995\n",
      "[995 997 997 999 999]\n"
     ]
    }
   ],
   "source": [
    "# 17\n",
    "a = np.random.randint(1,1000,(1,1000))\n",
    "b = np.sort(a)\n",
    "#print(sortedLargeArray)\n",
    "print(b[0,-5])\n",
    "print(b[0,-5:])"
   ]
  },
  {
   "cell_type": "markdown",
   "id": "19184516",
   "metadata": {},
   "source": [
    "18. Create a random 5*3 matrix and replace items that are larger than 4 by their squares ( Example: 6 --> 36)"
   ]
  },
  {
   "cell_type": "code",
   "execution_count": 83,
   "id": "7f972f25",
   "metadata": {},
   "outputs": [
    {
     "name": "stdout",
     "output_type": "stream",
     "text": [
      "[[0 3 6]\n",
      " [0 9 4]\n",
      " [5 0 1]\n",
      " [6 2 3]\n",
      " [8 4 8]]\n"
     ]
    }
   ],
   "source": [
    "#a= np.random.randint((5,3))\n",
    "a= np.random.randint(0,10,(5,3))\n",
    "\n",
    "print(a)"
   ]
  },
  {
   "cell_type": "code",
   "execution_count": 84,
   "id": "68d3c32f",
   "metadata": {},
   "outputs": [
    {
     "name": "stdout",
     "output_type": "stream",
     "text": [
      "[[0 9 6]\n",
      " [0 9 4]\n",
      " [5 0 1]\n",
      " [6 4 9]\n",
      " [8 4 8]]\n"
     ]
    }
   ],
   "source": [
    "a= np.random.randint(0,10,(5,3))\n",
    "b = np.where(a<4,a**2,a)\n",
    "    \n",
    "print(b)\n",
    "    "
   ]
  },
  {
   "cell_type": "code",
   "execution_count": 79,
   "id": "a96c8a48",
   "metadata": {},
   "outputs": [
    {
     "data": {
      "text/plain": [
       "array([[0.58294484, 0.13736403, 0.17662829],\n",
       "       [0.74956418, 0.10605518, 0.43919319],\n",
       "       [0.69343715, 0.45581823, 0.5560236 ],\n",
       "       [0.52862437, 0.31409992, 0.48253794],\n",
       "       [0.88661368, 0.21880715, 0.15750711]])"
      ]
     },
     "execution_count": 79,
     "metadata": {},
     "output_type": "execute_result"
    }
   ],
   "source": [
    "b = np.where(a>4,0,a)\n",
    "b"
   ]
  },
  {
   "cell_type": "code",
   "execution_count": null,
   "id": "902cad84",
   "metadata": {},
   "outputs": [],
   "source": []
  }
 ],
 "metadata": {
  "kernelspec": {
   "display_name": "Python 3 (ipykernel)",
   "language": "python",
   "name": "python3"
  },
  "language_info": {
   "codemirror_mode": {
    "name": "ipython",
    "version": 3
   },
   "file_extension": ".py",
   "mimetype": "text/x-python",
   "name": "python",
   "nbconvert_exporter": "python",
   "pygments_lexer": "ipython3",
   "version": "3.9.13"
  }
 },
 "nbformat": 4,
 "nbformat_minor": 5
}
