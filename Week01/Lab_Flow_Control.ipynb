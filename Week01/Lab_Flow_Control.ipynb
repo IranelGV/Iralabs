{
 "cells": [
  {
   "cell_type": "markdown",
   "id": "8876c79b",
   "metadata": {},
   "source": [
    "### Lab_Flow_Control (Optional Lab)"
   ]
  },
  {
   "cell_type": "code",
   "execution_count": 1,
   "id": "eccc4044",
   "metadata": {},
   "outputs": [],
   "source": [
    "import numpy as np\n",
    "import pandas as pd\n",
    "from IPython.display import Image\n",
    "from IPython.display import HTML\n",
    "from IPython.display import Markdown, display\n",
    "def printmd(string):\n",
    "    display(Markdown(string))"
   ]
  },
  {
   "cell_type": "code",
   "execution_count": 8,
   "id": "c4421c3d",
   "metadata": {},
   "outputs": [
    {
     "name": "stdout",
     "output_type": "stream",
     "text": [
      "Enter the name of a product would you like to order: apple\n",
      "Do you want to add another product? (yes/no): yes\n",
      "Enter the name of a product would you like to order: banana\n",
      "Do you want to add another product? (yes/no): yes\n",
      "Enter the name of a product would you like to order: orange\n",
      "Do you want to add another product? (yes/no): no\n",
      "Customer Orders: {'apple', 'banana', 'orange'}\n",
      "Updated Inventory: {'apple': 4, 'banana': 9, 'orange': 7}\n"
     ]
    }
   ],
   "source": [
    "inventory = {\n",
    "    'apple': 5,\n",
    "    'banana': 10,\n",
    "    'orange': 8,\n",
    "}\n",
    "\n",
    "customer_orders = set()\n",
    "\n",
    "while True:\n",
    "    product_name = input(\"Enter the name of a product would you like to order: \")\n",
    "\n",
    "    customer_orders.add(product_name)\n",
    "\n",
    "    add_another = input(\"Do you want to add another product? (yes/no): \")\n",
    "\n",
    "    if add_another.lower() != 'yes':\n",
    "        break\n",
    "\n",
    "for product in customer_orders:\n",
    "    \n",
    "    if product in inventory:\n",
    "        inventory[product] -= 1\n",
    "\n",
    "\n",
    "print(\"Customer Orders:\", customer_orders)\n",
    "print(\"Updated Inventory:\", inventory)\n"
   ]
  },
  {
   "cell_type": "code",
   "execution_count": null,
   "id": "a8151710",
   "metadata": {},
   "outputs": [],
   "source": []
  }
 ],
 "metadata": {
  "kernelspec": {
   "display_name": "Python 3 (ipykernel)",
   "language": "python",
   "name": "python3"
  },
  "language_info": {
   "codemirror_mode": {
    "name": "ipython",
    "version": 3
   },
   "file_extension": ".py",
   "mimetype": "text/x-python",
   "name": "python",
   "nbconvert_exporter": "python",
   "pygments_lexer": "ipython3",
   "version": "3.9.13"
  }
 },
 "nbformat": 4,
 "nbformat_minor": 5
}
